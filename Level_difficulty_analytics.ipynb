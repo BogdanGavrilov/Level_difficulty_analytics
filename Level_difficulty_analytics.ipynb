{
  "nbformat": 4,
  "nbformat_minor": 0,
  "metadata": {
    "colab": {
      "provenance": [],
      "collapsed_sections": [],
      "authorship_tag": "ABX9TyOCYxQOgl48zXauopFhB9/L"
    },
    "kernelspec": {
      "name": "python3",
      "display_name": "Python 3"
    },
    "language_info": {
      "name": "python"
    }
  },
  "cells": [
    {
      "cell_type": "markdown",
      "source": [
        "# **Описание DataFrame и постановка аналитической задачи**\n",
        "\n",
        "\n",
        "---\n",
        "\n",
        "\n",
        "Имеется DataFrame (https://drive.google.com/file/d/1Fg3bvX2NOzd3pqcEkH8-epbZFll60-36) со статистикой игровой активности пользователей в игре жанра match3. Данная таблица содержит лог событий за определенный промежуток времени по первым 500 уровням в игре.\n",
        "\n",
        "**Входные данные:**\n",
        "\n",
        "\n",
        "1.   uid — уникальный id игрока;\n",
        "2.   action — ‘completed’ для успешной попытки прохождения уровня, ‘failed’ для неуспешной;\n",
        "3.   level — уровень, на котором произошло событие;\n",
        "4.   event_time — event_time/1000 является unix timestamp времени получения события.\n",
        "\n",
        "\n",
        "На основе представленных данных можно выявить \"проблемные\" уровни для пользователей нашей игры. Также было бы неплохо расчитать \"воронку\" прохождения уровней новым пользователем после установки игры \n",
        "\n",
        "**Какая выгода в проведении данного исследования для бизнеса:**\n",
        "\n",
        "Очень важно, чтобы игрок не покидал наш проект. Если он дойдет до уровня, который не сможет пройти на протяжении какого-то времени, то ему может это просто надоесть, и мы потеряем потеницального пользователя.\n",
        "\n",
        "Да, в игре есть бонусы, которые помогут ему пройти сложный уровень (за платную внутриигровую валюту). Но я предполагаю, что если пользователь отчаяно пытается пройти этот уровень без использования хэлперов за донат, то он не намерен оставлять деньги в нашем проекте. Но это не значит, что нужно бросать его на произвол судьбы беспощадного уровня. В нашем приложении так же предусмотрена контекстная реклама, поэтому удержание пользователя в нашем проекте (даже если он не покупает платные внутриигровые бонусы) остается актуальным.\n",
        "\n",
        "В конце посмотрим, до каких уровней доходят наши новые пользователи на текущий момент.\n",
        "\n",
        "**Я разбил исследование на несколько задач:**\n",
        "\n",
        "1.   Выбрать метрику, описывающую сложность уровней, и рассчитать ее;\n",
        "2.   По результатам предыдущего шага разделить уровни на группы по сложности;\n",
        "3.   Рассчитать \"воронку\" прохождения уровней новым пользователем после установки игры.\n",
        "\n"
      ],
      "metadata": {
        "id": "RIa6uosPLloN"
      }
    },
    {
      "cell_type": "code",
      "source": [
        "# Подключаем все нужные библиотеки\n",
        "import pandas as pd\n",
        "import numpy as np\n",
        "import seaborn as sns"
      ],
      "metadata": {
        "id": "nXondmzhLjBr"
      },
      "execution_count": 1,
      "outputs": []
    },
    {
      "cell_type": "code",
      "source": [
        "# Добавим датасет в наш ноутбук\n",
        "!gdown --id 1Fg3bvX2NOzd3pqcEkH8-epbZFll60-36"
      ],
      "metadata": {
        "colab": {
          "base_uri": "https://localhost:8080/"
        },
        "id": "KWdtUz8EOLMq",
        "outputId": "fc012531-bb8d-45e8-e758-be4a219ff230"
      },
      "execution_count": 2,
      "outputs": [
        {
          "output_type": "stream",
          "name": "stdout",
          "text": [
            "/usr/local/lib/python3.7/dist-packages/gdown/cli.py:131: FutureWarning: Option `--id` was deprecated in version 4.3.1 and will be removed in 5.0. You don't need to pass it anymore to use a file ID.\n",
            "  category=FutureWarning,\n",
            "Downloading...\n",
            "From: https://drive.google.com/uc?id=1Fg3bvX2NOzd3pqcEkH8-epbZFll60-36\n",
            "To: /content/plr_smpl_attempts.csv.gz\n",
            "100% 87.6M/87.6M [00:00<00:00, 94.1MB/s]\n"
          ]
        }
      ]
    },
    {
      "cell_type": "markdown",
      "source": [
        "## Начнем с проверки и подготвки наших данных к анализу"
      ],
      "metadata": {
        "id": "L9DUwArUOARo"
      }
    },
    {
      "cell_type": "code",
      "source": [
        "# Считываем таблицу\n",
        "\n",
        "df = pd.read_csv(\"/content/plr_smpl_attempts.csv.gz\", sep=\";\")"
      ],
      "metadata": {
        "id": "rviQTEULKgA3"
      },
      "execution_count": 3,
      "outputs": []
    },
    {
      "cell_type": "code",
      "source": [
        "# Выведем содержимое\n",
        "\n",
        "df.head(5)"
      ],
      "metadata": {
        "colab": {
          "base_uri": "https://localhost:8080/",
          "height": 206
        },
        "id": "Z0LN4Q0JOnEM",
        "outputId": "a49542bc-476d-413c-99ab-37b666f620b5"
      },
      "execution_count": 4,
      "outputs": [
        {
          "output_type": "execute_result",
          "data": {
            "text/plain": [
              "                              uid  action  level     event_time\n",
              "0  elljQ2EySG03MDU0MTE3MTAyMTE3MA  failed    113  1512086924640\n",
              "1  elljQ2EySG03MDU0MTE3MTAyMTE3MA  failed    113  1512086924640\n",
              "2  elljQ2EySG03MDU0MTE3MTAyMTE3MA  failed    113  1512086924640\n",
              "3  elljQ2EySG03MDU0MTE3MTAyMTE3MA  failed    113  1512086924640\n",
              "4  elljQ2EySG03MDU0MTE3MTAyMTE3MA  failed    113  1512086924640"
            ],
            "text/html": [
              "\n",
              "  <div id=\"df-69934390-6af0-4356-873f-9db115accaf9\">\n",
              "    <div class=\"colab-df-container\">\n",
              "      <div>\n",
              "<style scoped>\n",
              "    .dataframe tbody tr th:only-of-type {\n",
              "        vertical-align: middle;\n",
              "    }\n",
              "\n",
              "    .dataframe tbody tr th {\n",
              "        vertical-align: top;\n",
              "    }\n",
              "\n",
              "    .dataframe thead th {\n",
              "        text-align: right;\n",
              "    }\n",
              "</style>\n",
              "<table border=\"1\" class=\"dataframe\">\n",
              "  <thead>\n",
              "    <tr style=\"text-align: right;\">\n",
              "      <th></th>\n",
              "      <th>uid</th>\n",
              "      <th>action</th>\n",
              "      <th>level</th>\n",
              "      <th>event_time</th>\n",
              "    </tr>\n",
              "  </thead>\n",
              "  <tbody>\n",
              "    <tr>\n",
              "      <th>0</th>\n",
              "      <td>elljQ2EySG03MDU0MTE3MTAyMTE3MA</td>\n",
              "      <td>failed</td>\n",
              "      <td>113</td>\n",
              "      <td>1512086924640</td>\n",
              "    </tr>\n",
              "    <tr>\n",
              "      <th>1</th>\n",
              "      <td>elljQ2EySG03MDU0MTE3MTAyMTE3MA</td>\n",
              "      <td>failed</td>\n",
              "      <td>113</td>\n",
              "      <td>1512086924640</td>\n",
              "    </tr>\n",
              "    <tr>\n",
              "      <th>2</th>\n",
              "      <td>elljQ2EySG03MDU0MTE3MTAyMTE3MA</td>\n",
              "      <td>failed</td>\n",
              "      <td>113</td>\n",
              "      <td>1512086924640</td>\n",
              "    </tr>\n",
              "    <tr>\n",
              "      <th>3</th>\n",
              "      <td>elljQ2EySG03MDU0MTE3MTAyMTE3MA</td>\n",
              "      <td>failed</td>\n",
              "      <td>113</td>\n",
              "      <td>1512086924640</td>\n",
              "    </tr>\n",
              "    <tr>\n",
              "      <th>4</th>\n",
              "      <td>elljQ2EySG03MDU0MTE3MTAyMTE3MA</td>\n",
              "      <td>failed</td>\n",
              "      <td>113</td>\n",
              "      <td>1512086924640</td>\n",
              "    </tr>\n",
              "  </tbody>\n",
              "</table>\n",
              "</div>\n",
              "      <button class=\"colab-df-convert\" onclick=\"convertToInteractive('df-69934390-6af0-4356-873f-9db115accaf9')\"\n",
              "              title=\"Convert this dataframe to an interactive table.\"\n",
              "              style=\"display:none;\">\n",
              "        \n",
              "  <svg xmlns=\"http://www.w3.org/2000/svg\" height=\"24px\"viewBox=\"0 0 24 24\"\n",
              "       width=\"24px\">\n",
              "    <path d=\"M0 0h24v24H0V0z\" fill=\"none\"/>\n",
              "    <path d=\"M18.56 5.44l.94 2.06.94-2.06 2.06-.94-2.06-.94-.94-2.06-.94 2.06-2.06.94zm-11 1L8.5 8.5l.94-2.06 2.06-.94-2.06-.94L8.5 2.5l-.94 2.06-2.06.94zm10 10l.94 2.06.94-2.06 2.06-.94-2.06-.94-.94-2.06-.94 2.06-2.06.94z\"/><path d=\"M17.41 7.96l-1.37-1.37c-.4-.4-.92-.59-1.43-.59-.52 0-1.04.2-1.43.59L10.3 9.45l-7.72 7.72c-.78.78-.78 2.05 0 2.83L4 21.41c.39.39.9.59 1.41.59.51 0 1.02-.2 1.41-.59l7.78-7.78 2.81-2.81c.8-.78.8-2.07 0-2.86zM5.41 20L4 18.59l7.72-7.72 1.47 1.35L5.41 20z\"/>\n",
              "  </svg>\n",
              "      </button>\n",
              "      \n",
              "  <style>\n",
              "    .colab-df-container {\n",
              "      display:flex;\n",
              "      flex-wrap:wrap;\n",
              "      gap: 12px;\n",
              "    }\n",
              "\n",
              "    .colab-df-convert {\n",
              "      background-color: #E8F0FE;\n",
              "      border: none;\n",
              "      border-radius: 50%;\n",
              "      cursor: pointer;\n",
              "      display: none;\n",
              "      fill: #1967D2;\n",
              "      height: 32px;\n",
              "      padding: 0 0 0 0;\n",
              "      width: 32px;\n",
              "    }\n",
              "\n",
              "    .colab-df-convert:hover {\n",
              "      background-color: #E2EBFA;\n",
              "      box-shadow: 0px 1px 2px rgba(60, 64, 67, 0.3), 0px 1px 3px 1px rgba(60, 64, 67, 0.15);\n",
              "      fill: #174EA6;\n",
              "    }\n",
              "\n",
              "    [theme=dark] .colab-df-convert {\n",
              "      background-color: #3B4455;\n",
              "      fill: #D2E3FC;\n",
              "    }\n",
              "\n",
              "    [theme=dark] .colab-df-convert:hover {\n",
              "      background-color: #434B5C;\n",
              "      box-shadow: 0px 1px 3px 1px rgba(0, 0, 0, 0.15);\n",
              "      filter: drop-shadow(0px 1px 2px rgba(0, 0, 0, 0.3));\n",
              "      fill: #FFFFFF;\n",
              "    }\n",
              "  </style>\n",
              "\n",
              "      <script>\n",
              "        const buttonEl =\n",
              "          document.querySelector('#df-69934390-6af0-4356-873f-9db115accaf9 button.colab-df-convert');\n",
              "        buttonEl.style.display =\n",
              "          google.colab.kernel.accessAllowed ? 'block' : 'none';\n",
              "\n",
              "        async function convertToInteractive(key) {\n",
              "          const element = document.querySelector('#df-69934390-6af0-4356-873f-9db115accaf9');\n",
              "          const dataTable =\n",
              "            await google.colab.kernel.invokeFunction('convertToInteractive',\n",
              "                                                     [key], {});\n",
              "          if (!dataTable) return;\n",
              "\n",
              "          const docLinkHtml = 'Like what you see? Visit the ' +\n",
              "            '<a target=\"_blank\" href=https://colab.research.google.com/notebooks/data_table.ipynb>data table notebook</a>'\n",
              "            + ' to learn more about interactive tables.';\n",
              "          element.innerHTML = '';\n",
              "          dataTable['output_type'] = 'display_data';\n",
              "          await google.colab.output.renderOutput(dataTable, element);\n",
              "          const docLink = document.createElement('div');\n",
              "          docLink.innerHTML = docLinkHtml;\n",
              "          element.appendChild(docLink);\n",
              "        }\n",
              "      </script>\n",
              "    </div>\n",
              "  </div>\n",
              "  "
            ]
          },
          "metadata": {},
          "execution_count": 4
        }
      ]
    },
    {
      "cell_type": "code",
      "source": [
        "# Удостоверимся, что исходные данные в ТЗ совпадают с реальной картиной\n",
        "\n",
        "df.nunique()"
      ],
      "metadata": {
        "colab": {
          "base_uri": "https://localhost:8080/"
        },
        "id": "AH4edlK-O7s6",
        "outputId": "2ea0d927-b97d-46d5-c63b-52917abff834"
      },
      "execution_count": 5,
      "outputs": [
        {
          "output_type": "execute_result",
          "data": {
            "text/plain": [
              "uid            196088\n",
              "action              2\n",
              "level             500\n",
              "event_time    5480492\n",
              "dtype: int64"
            ]
          },
          "metadata": {},
          "execution_count": 5
        }
      ]
    },
    {
      "cell_type": "code",
      "source": [
        "df[\"action\"].unique()"
      ],
      "metadata": {
        "colab": {
          "base_uri": "https://localhost:8080/"
        },
        "id": "a02CkdmQPg8M",
        "outputId": "f0121cab-79a4-4b36-b936-d3f6c9aed0de"
      },
      "execution_count": 6,
      "outputs": [
        {
          "output_type": "execute_result",
          "data": {
            "text/plain": [
              "array(['failed', 'completed'], dtype=object)"
            ]
          },
          "metadata": {},
          "execution_count": 6
        }
      ]
    },
    {
      "cell_type": "markdown",
      "source": [
        "Переменная action принимает только два значения (\"failed\", \"completed\"), а level содержит 500 уникальных уровней.\n",
        "\n",
        "**Данные совпадают с ТЗ**"
      ],
      "metadata": {
        "id": "ZpyyLHZiPV2b"
      }
    },
    {
      "cell_type": "code",
      "source": [
        "# Заменим данные в столбце \"action\" на числовые булевые значения. failed = 1; completed = 0\n",
        "\n",
        "df = df.replace({\"completed\": 0, \"failed\": 1})\n",
        "df.head(5)"
      ],
      "metadata": {
        "colab": {
          "base_uri": "https://localhost:8080/",
          "height": 206
        },
        "id": "19qqMKWGQvsK",
        "outputId": "f2e0097f-5ea0-4eab-8933-41e84b86839e"
      },
      "execution_count": 7,
      "outputs": [
        {
          "output_type": "execute_result",
          "data": {
            "text/plain": [
              "                              uid  action  level     event_time\n",
              "0  elljQ2EySG03MDU0MTE3MTAyMTE3MA       1    113  1512086924640\n",
              "1  elljQ2EySG03MDU0MTE3MTAyMTE3MA       1    113  1512086924640\n",
              "2  elljQ2EySG03MDU0MTE3MTAyMTE3MA       1    113  1512086924640\n",
              "3  elljQ2EySG03MDU0MTE3MTAyMTE3MA       1    113  1512086924640\n",
              "4  elljQ2EySG03MDU0MTE3MTAyMTE3MA       1    113  1512086924640"
            ],
            "text/html": [
              "\n",
              "  <div id=\"df-efb49407-8e57-4bd5-9423-a5bb1b4106be\">\n",
              "    <div class=\"colab-df-container\">\n",
              "      <div>\n",
              "<style scoped>\n",
              "    .dataframe tbody tr th:only-of-type {\n",
              "        vertical-align: middle;\n",
              "    }\n",
              "\n",
              "    .dataframe tbody tr th {\n",
              "        vertical-align: top;\n",
              "    }\n",
              "\n",
              "    .dataframe thead th {\n",
              "        text-align: right;\n",
              "    }\n",
              "</style>\n",
              "<table border=\"1\" class=\"dataframe\">\n",
              "  <thead>\n",
              "    <tr style=\"text-align: right;\">\n",
              "      <th></th>\n",
              "      <th>uid</th>\n",
              "      <th>action</th>\n",
              "      <th>level</th>\n",
              "      <th>event_time</th>\n",
              "    </tr>\n",
              "  </thead>\n",
              "  <tbody>\n",
              "    <tr>\n",
              "      <th>0</th>\n",
              "      <td>elljQ2EySG03MDU0MTE3MTAyMTE3MA</td>\n",
              "      <td>1</td>\n",
              "      <td>113</td>\n",
              "      <td>1512086924640</td>\n",
              "    </tr>\n",
              "    <tr>\n",
              "      <th>1</th>\n",
              "      <td>elljQ2EySG03MDU0MTE3MTAyMTE3MA</td>\n",
              "      <td>1</td>\n",
              "      <td>113</td>\n",
              "      <td>1512086924640</td>\n",
              "    </tr>\n",
              "    <tr>\n",
              "      <th>2</th>\n",
              "      <td>elljQ2EySG03MDU0MTE3MTAyMTE3MA</td>\n",
              "      <td>1</td>\n",
              "      <td>113</td>\n",
              "      <td>1512086924640</td>\n",
              "    </tr>\n",
              "    <tr>\n",
              "      <th>3</th>\n",
              "      <td>elljQ2EySG03MDU0MTE3MTAyMTE3MA</td>\n",
              "      <td>1</td>\n",
              "      <td>113</td>\n",
              "      <td>1512086924640</td>\n",
              "    </tr>\n",
              "    <tr>\n",
              "      <th>4</th>\n",
              "      <td>elljQ2EySG03MDU0MTE3MTAyMTE3MA</td>\n",
              "      <td>1</td>\n",
              "      <td>113</td>\n",
              "      <td>1512086924640</td>\n",
              "    </tr>\n",
              "  </tbody>\n",
              "</table>\n",
              "</div>\n",
              "      <button class=\"colab-df-convert\" onclick=\"convertToInteractive('df-efb49407-8e57-4bd5-9423-a5bb1b4106be')\"\n",
              "              title=\"Convert this dataframe to an interactive table.\"\n",
              "              style=\"display:none;\">\n",
              "        \n",
              "  <svg xmlns=\"http://www.w3.org/2000/svg\" height=\"24px\"viewBox=\"0 0 24 24\"\n",
              "       width=\"24px\">\n",
              "    <path d=\"M0 0h24v24H0V0z\" fill=\"none\"/>\n",
              "    <path d=\"M18.56 5.44l.94 2.06.94-2.06 2.06-.94-2.06-.94-.94-2.06-.94 2.06-2.06.94zm-11 1L8.5 8.5l.94-2.06 2.06-.94-2.06-.94L8.5 2.5l-.94 2.06-2.06.94zm10 10l.94 2.06.94-2.06 2.06-.94-2.06-.94-.94-2.06-.94 2.06-2.06.94z\"/><path d=\"M17.41 7.96l-1.37-1.37c-.4-.4-.92-.59-1.43-.59-.52 0-1.04.2-1.43.59L10.3 9.45l-7.72 7.72c-.78.78-.78 2.05 0 2.83L4 21.41c.39.39.9.59 1.41.59.51 0 1.02-.2 1.41-.59l7.78-7.78 2.81-2.81c.8-.78.8-2.07 0-2.86zM5.41 20L4 18.59l7.72-7.72 1.47 1.35L5.41 20z\"/>\n",
              "  </svg>\n",
              "      </button>\n",
              "      \n",
              "  <style>\n",
              "    .colab-df-container {\n",
              "      display:flex;\n",
              "      flex-wrap:wrap;\n",
              "      gap: 12px;\n",
              "    }\n",
              "\n",
              "    .colab-df-convert {\n",
              "      background-color: #E8F0FE;\n",
              "      border: none;\n",
              "      border-radius: 50%;\n",
              "      cursor: pointer;\n",
              "      display: none;\n",
              "      fill: #1967D2;\n",
              "      height: 32px;\n",
              "      padding: 0 0 0 0;\n",
              "      width: 32px;\n",
              "    }\n",
              "\n",
              "    .colab-df-convert:hover {\n",
              "      background-color: #E2EBFA;\n",
              "      box-shadow: 0px 1px 2px rgba(60, 64, 67, 0.3), 0px 1px 3px 1px rgba(60, 64, 67, 0.15);\n",
              "      fill: #174EA6;\n",
              "    }\n",
              "\n",
              "    [theme=dark] .colab-df-convert {\n",
              "      background-color: #3B4455;\n",
              "      fill: #D2E3FC;\n",
              "    }\n",
              "\n",
              "    [theme=dark] .colab-df-convert:hover {\n",
              "      background-color: #434B5C;\n",
              "      box-shadow: 0px 1px 3px 1px rgba(0, 0, 0, 0.15);\n",
              "      filter: drop-shadow(0px 1px 2px rgba(0, 0, 0, 0.3));\n",
              "      fill: #FFFFFF;\n",
              "    }\n",
              "  </style>\n",
              "\n",
              "      <script>\n",
              "        const buttonEl =\n",
              "          document.querySelector('#df-efb49407-8e57-4bd5-9423-a5bb1b4106be button.colab-df-convert');\n",
              "        buttonEl.style.display =\n",
              "          google.colab.kernel.accessAllowed ? 'block' : 'none';\n",
              "\n",
              "        async function convertToInteractive(key) {\n",
              "          const element = document.querySelector('#df-efb49407-8e57-4bd5-9423-a5bb1b4106be');\n",
              "          const dataTable =\n",
              "            await google.colab.kernel.invokeFunction('convertToInteractive',\n",
              "                                                     [key], {});\n",
              "          if (!dataTable) return;\n",
              "\n",
              "          const docLinkHtml = 'Like what you see? Visit the ' +\n",
              "            '<a target=\"_blank\" href=https://colab.research.google.com/notebooks/data_table.ipynb>data table notebook</a>'\n",
              "            + ' to learn more about interactive tables.';\n",
              "          element.innerHTML = '';\n",
              "          dataTable['output_type'] = 'display_data';\n",
              "          await google.colab.output.renderOutput(dataTable, element);\n",
              "          const docLink = document.createElement('div');\n",
              "          docLink.innerHTML = docLinkHtml;\n",
              "          element.appendChild(docLink);\n",
              "        }\n",
              "      </script>\n",
              "    </div>\n",
              "  </div>\n",
              "  "
            ]
          },
          "metadata": {},
          "execution_count": 7
        }
      ]
    },
    {
      "cell_type": "code",
      "source": [
        "# Посмотрим размеры таблицы\n",
        "\n",
        "df.shape"
      ],
      "metadata": {
        "colab": {
          "base_uri": "https://localhost:8080/"
        },
        "id": "gGis6iR-Q1QP",
        "outputId": "09e97b16-0dea-4992-8164-2d733b41aa63"
      },
      "execution_count": 8,
      "outputs": [
        {
          "output_type": "execute_result",
          "data": {
            "text/plain": [
              "(22231214, 4)"
            ]
          },
          "metadata": {},
          "execution_count": 8
        }
      ]
    },
    {
      "cell_type": "code",
      "source": [
        "# Посмотрим на типы наших переменных\n",
        "\n",
        "df.dtypes"
      ],
      "metadata": {
        "colab": {
          "base_uri": "https://localhost:8080/"
        },
        "id": "Xhg6uCDXQ72w",
        "outputId": "0ee6781f-9584-4dc5-8b2e-d37b99944bc6"
      },
      "execution_count": 9,
      "outputs": [
        {
          "output_type": "execute_result",
          "data": {
            "text/plain": [
              "uid           object\n",
              "action         int64\n",
              "level          int64\n",
              "event_time     int64\n",
              "dtype: object"
            ]
          },
          "metadata": {},
          "execution_count": 9
        }
      ]
    },
    {
      "cell_type": "code",
      "source": [
        "# Проверим таблицу на пропущенные значения\n",
        "\n",
        "df.isna().sum()"
      ],
      "metadata": {
        "colab": {
          "base_uri": "https://localhost:8080/"
        },
        "id": "Srauyf0sQ_D_",
        "outputId": "ce4f3a72-2949-4cb6-f9b2-3855eaed9c5e"
      },
      "execution_count": 10,
      "outputs": [
        {
          "output_type": "execute_result",
          "data": {
            "text/plain": [
              "uid           0\n",
              "action        0\n",
              "level         0\n",
              "event_time    0\n",
              "dtype: int64"
            ]
          },
          "metadata": {},
          "execution_count": 10
        }
      ]
    },
    {
      "cell_type": "code",
      "source": [
        "# Проверим, есть ли дупликаты по айди пользователя и времени получения события\n",
        "\n",
        "size_of_copies = df.groupby(df[[\"uid\", \"event_time\"]].columns.tolist(),as_index=False).size().rename({\"size\": \"count_of_copies\"}, axis=1)\n",
        "size_of_copies.head(5)"
      ],
      "metadata": {
        "colab": {
          "base_uri": "https://localhost:8080/",
          "height": 206
        },
        "id": "Rz0GyCkORCMK",
        "outputId": "ffa2e04e-6ff9-4e83-8482-b48d17a5b4ea"
      },
      "execution_count": 11,
      "outputs": [
        {
          "output_type": "execute_result",
          "data": {
            "text/plain": [
              "                              uid     event_time  count_of_copies\n",
              "0  M000MjVPdEM0MzMzNzA3MTAyMDE5MQ  1513224808476                5\n",
              "1  M000MjVPdEM0MzMzNzA3MTAyMDE5MQ  1513253353017                1\n",
              "2  M000MjVPdEM0MzMzNzA3MTAyMDE5MQ  1513253543747                2\n",
              "3  M000MjVPdEM0MzMzNzA3MTAyMDE5MQ  1513261453988                6\n",
              "4  M000Y3dYeUUyMjIxODE3MTAyOTAwMQ  1512173692274                1"
            ],
            "text/html": [
              "\n",
              "  <div id=\"df-d2953b86-922d-4b5f-8191-a7338337b5cf\">\n",
              "    <div class=\"colab-df-container\">\n",
              "      <div>\n",
              "<style scoped>\n",
              "    .dataframe tbody tr th:only-of-type {\n",
              "        vertical-align: middle;\n",
              "    }\n",
              "\n",
              "    .dataframe tbody tr th {\n",
              "        vertical-align: top;\n",
              "    }\n",
              "\n",
              "    .dataframe thead th {\n",
              "        text-align: right;\n",
              "    }\n",
              "</style>\n",
              "<table border=\"1\" class=\"dataframe\">\n",
              "  <thead>\n",
              "    <tr style=\"text-align: right;\">\n",
              "      <th></th>\n",
              "      <th>uid</th>\n",
              "      <th>event_time</th>\n",
              "      <th>count_of_copies</th>\n",
              "    </tr>\n",
              "  </thead>\n",
              "  <tbody>\n",
              "    <tr>\n",
              "      <th>0</th>\n",
              "      <td>M000MjVPdEM0MzMzNzA3MTAyMDE5MQ</td>\n",
              "      <td>1513224808476</td>\n",
              "      <td>5</td>\n",
              "    </tr>\n",
              "    <tr>\n",
              "      <th>1</th>\n",
              "      <td>M000MjVPdEM0MzMzNzA3MTAyMDE5MQ</td>\n",
              "      <td>1513253353017</td>\n",
              "      <td>1</td>\n",
              "    </tr>\n",
              "    <tr>\n",
              "      <th>2</th>\n",
              "      <td>M000MjVPdEM0MzMzNzA3MTAyMDE5MQ</td>\n",
              "      <td>1513253543747</td>\n",
              "      <td>2</td>\n",
              "    </tr>\n",
              "    <tr>\n",
              "      <th>3</th>\n",
              "      <td>M000MjVPdEM0MzMzNzA3MTAyMDE5MQ</td>\n",
              "      <td>1513261453988</td>\n",
              "      <td>6</td>\n",
              "    </tr>\n",
              "    <tr>\n",
              "      <th>4</th>\n",
              "      <td>M000Y3dYeUUyMjIxODE3MTAyOTAwMQ</td>\n",
              "      <td>1512173692274</td>\n",
              "      <td>1</td>\n",
              "    </tr>\n",
              "  </tbody>\n",
              "</table>\n",
              "</div>\n",
              "      <button class=\"colab-df-convert\" onclick=\"convertToInteractive('df-d2953b86-922d-4b5f-8191-a7338337b5cf')\"\n",
              "              title=\"Convert this dataframe to an interactive table.\"\n",
              "              style=\"display:none;\">\n",
              "        \n",
              "  <svg xmlns=\"http://www.w3.org/2000/svg\" height=\"24px\"viewBox=\"0 0 24 24\"\n",
              "       width=\"24px\">\n",
              "    <path d=\"M0 0h24v24H0V0z\" fill=\"none\"/>\n",
              "    <path d=\"M18.56 5.44l.94 2.06.94-2.06 2.06-.94-2.06-.94-.94-2.06-.94 2.06-2.06.94zm-11 1L8.5 8.5l.94-2.06 2.06-.94-2.06-.94L8.5 2.5l-.94 2.06-2.06.94zm10 10l.94 2.06.94-2.06 2.06-.94-2.06-.94-.94-2.06-.94 2.06-2.06.94z\"/><path d=\"M17.41 7.96l-1.37-1.37c-.4-.4-.92-.59-1.43-.59-.52 0-1.04.2-1.43.59L10.3 9.45l-7.72 7.72c-.78.78-.78 2.05 0 2.83L4 21.41c.39.39.9.59 1.41.59.51 0 1.02-.2 1.41-.59l7.78-7.78 2.81-2.81c.8-.78.8-2.07 0-2.86zM5.41 20L4 18.59l7.72-7.72 1.47 1.35L5.41 20z\"/>\n",
              "  </svg>\n",
              "      </button>\n",
              "      \n",
              "  <style>\n",
              "    .colab-df-container {\n",
              "      display:flex;\n",
              "      flex-wrap:wrap;\n",
              "      gap: 12px;\n",
              "    }\n",
              "\n",
              "    .colab-df-convert {\n",
              "      background-color: #E8F0FE;\n",
              "      border: none;\n",
              "      border-radius: 50%;\n",
              "      cursor: pointer;\n",
              "      display: none;\n",
              "      fill: #1967D2;\n",
              "      height: 32px;\n",
              "      padding: 0 0 0 0;\n",
              "      width: 32px;\n",
              "    }\n",
              "\n",
              "    .colab-df-convert:hover {\n",
              "      background-color: #E2EBFA;\n",
              "      box-shadow: 0px 1px 2px rgba(60, 64, 67, 0.3), 0px 1px 3px 1px rgba(60, 64, 67, 0.15);\n",
              "      fill: #174EA6;\n",
              "    }\n",
              "\n",
              "    [theme=dark] .colab-df-convert {\n",
              "      background-color: #3B4455;\n",
              "      fill: #D2E3FC;\n",
              "    }\n",
              "\n",
              "    [theme=dark] .colab-df-convert:hover {\n",
              "      background-color: #434B5C;\n",
              "      box-shadow: 0px 1px 3px 1px rgba(0, 0, 0, 0.15);\n",
              "      filter: drop-shadow(0px 1px 2px rgba(0, 0, 0, 0.3));\n",
              "      fill: #FFFFFF;\n",
              "    }\n",
              "  </style>\n",
              "\n",
              "      <script>\n",
              "        const buttonEl =\n",
              "          document.querySelector('#df-d2953b86-922d-4b5f-8191-a7338337b5cf button.colab-df-convert');\n",
              "        buttonEl.style.display =\n",
              "          google.colab.kernel.accessAllowed ? 'block' : 'none';\n",
              "\n",
              "        async function convertToInteractive(key) {\n",
              "          const element = document.querySelector('#df-d2953b86-922d-4b5f-8191-a7338337b5cf');\n",
              "          const dataTable =\n",
              "            await google.colab.kernel.invokeFunction('convertToInteractive',\n",
              "                                                     [key], {});\n",
              "          if (!dataTable) return;\n",
              "\n",
              "          const docLinkHtml = 'Like what you see? Visit the ' +\n",
              "            '<a target=\"_blank\" href=https://colab.research.google.com/notebooks/data_table.ipynb>data table notebook</a>'\n",
              "            + ' to learn more about interactive tables.';\n",
              "          element.innerHTML = '';\n",
              "          dataTable['output_type'] = 'display_data';\n",
              "          await google.colab.output.renderOutput(dataTable, element);\n",
              "          const docLink = document.createElement('div');\n",
              "          docLink.innerHTML = docLinkHtml;\n",
              "          element.appendChild(docLink);\n",
              "        }\n",
              "      </script>\n",
              "    </div>\n",
              "  </div>\n",
              "  "
            ]
          },
          "metadata": {},
          "execution_count": 11
        }
      ]
    },
    {
      "cell_type": "code",
      "source": [
        "# Посчитаем количество дупликатов\n",
        "# Вычитаю 1, чтобы осталось только количество повторов (без учета оригинала)\n",
        "\n",
        "total_value_of_duplicates = (size_of_copies[[\"count_of_copies\"]] - 1).sum()"
      ],
      "metadata": {
        "id": "GZEEJSohRZaf"
      },
      "execution_count": 12,
      "outputs": []
    },
    {
      "cell_type": "code",
      "source": [
        "# Итоговое количество дупликатов составляет 16745052 единиц. Это приблизительно 75 % всех наблюдений\n",
        "\n",
        "total_value_of_duplicates"
      ],
      "metadata": {
        "colab": {
          "base_uri": "https://localhost:8080/"
        },
        "id": "smHcjiADR-7X",
        "outputId": "be2312d9-06b9-4805-8f96-4d088d96a7fe"
      },
      "execution_count": 13,
      "outputs": [
        {
          "output_type": "execute_result",
          "data": {
            "text/plain": [
              "count_of_copies    16745052\n",
              "dtype: int64"
            ]
          },
          "metadata": {},
          "execution_count": 13
        }
      ]
    },
    {
      "cell_type": "code",
      "source": [
        "# Посмотрим на повторы подробнее. Возьмем пользователя с uid - \"M000MjVPdEM0MzMzNzA3MTAyMDE5MQ\"\n",
        "\n",
        "df.query(\"uid == 'M000MjVPdEM0MzMzNzA3MTAyMDE5MQ'\").sort_values([\"event_time\", \"level\"])"
      ],
      "metadata": {
        "colab": {
          "base_uri": "https://localhost:8080/",
          "height": 488
        },
        "id": "fHEl7wXAU5Hd",
        "outputId": "a90c3606-ba12-4e1c-f878-5297728a2079"
      },
      "execution_count": 14,
      "outputs": [
        {
          "output_type": "execute_result",
          "data": {
            "text/plain": [
              "                                     uid  action  level     event_time\n",
              "21468991  M000MjVPdEM0MzMzNzA3MTAyMDE5MQ       1     95  1513224808476\n",
              "21468992  M000MjVPdEM0MzMzNzA3MTAyMDE5MQ       1     95  1513224808476\n",
              "21468993  M000MjVPdEM0MzMzNzA3MTAyMDE5MQ       1     95  1513224808476\n",
              "21468994  M000MjVPdEM0MzMzNzA3MTAyMDE5MQ       1     95  1513224808476\n",
              "21468995  M000MjVPdEM0MzMzNzA3MTAyMDE5MQ       1     95  1513224808476\n",
              "21468998  M000MjVPdEM0MzMzNzA3MTAyMDE5MQ       1     95  1513253353017\n",
              "21468996  M000MjVPdEM0MzMzNzA3MTAyMDE5MQ       1     95  1513253543747\n",
              "21468997  M000MjVPdEM0MzMzNzA3MTAyMDE5MQ       1     95  1513253543747\n",
              "21468985  M000MjVPdEM0MzMzNzA3MTAyMDE5MQ       1     95  1513261453988\n",
              "21468986  M000MjVPdEM0MzMzNzA3MTAyMDE5MQ       1     95  1513261453988\n",
              "21468987  M000MjVPdEM0MzMzNzA3MTAyMDE5MQ       1     95  1513261453988\n",
              "21468988  M000MjVPdEM0MzMzNzA3MTAyMDE5MQ       1     95  1513261453988\n",
              "21468989  M000MjVPdEM0MzMzNzA3MTAyMDE5MQ       1     95  1513261453988\n",
              "21468990  M000MjVPdEM0MzMzNzA3MTAyMDE5MQ       1     95  1513261453988"
            ],
            "text/html": [
              "\n",
              "  <div id=\"df-f37c476d-a3a1-47f7-970a-dc5e9c922d2e\">\n",
              "    <div class=\"colab-df-container\">\n",
              "      <div>\n",
              "<style scoped>\n",
              "    .dataframe tbody tr th:only-of-type {\n",
              "        vertical-align: middle;\n",
              "    }\n",
              "\n",
              "    .dataframe tbody tr th {\n",
              "        vertical-align: top;\n",
              "    }\n",
              "\n",
              "    .dataframe thead th {\n",
              "        text-align: right;\n",
              "    }\n",
              "</style>\n",
              "<table border=\"1\" class=\"dataframe\">\n",
              "  <thead>\n",
              "    <tr style=\"text-align: right;\">\n",
              "      <th></th>\n",
              "      <th>uid</th>\n",
              "      <th>action</th>\n",
              "      <th>level</th>\n",
              "      <th>event_time</th>\n",
              "    </tr>\n",
              "  </thead>\n",
              "  <tbody>\n",
              "    <tr>\n",
              "      <th>21468991</th>\n",
              "      <td>M000MjVPdEM0MzMzNzA3MTAyMDE5MQ</td>\n",
              "      <td>1</td>\n",
              "      <td>95</td>\n",
              "      <td>1513224808476</td>\n",
              "    </tr>\n",
              "    <tr>\n",
              "      <th>21468992</th>\n",
              "      <td>M000MjVPdEM0MzMzNzA3MTAyMDE5MQ</td>\n",
              "      <td>1</td>\n",
              "      <td>95</td>\n",
              "      <td>1513224808476</td>\n",
              "    </tr>\n",
              "    <tr>\n",
              "      <th>21468993</th>\n",
              "      <td>M000MjVPdEM0MzMzNzA3MTAyMDE5MQ</td>\n",
              "      <td>1</td>\n",
              "      <td>95</td>\n",
              "      <td>1513224808476</td>\n",
              "    </tr>\n",
              "    <tr>\n",
              "      <th>21468994</th>\n",
              "      <td>M000MjVPdEM0MzMzNzA3MTAyMDE5MQ</td>\n",
              "      <td>1</td>\n",
              "      <td>95</td>\n",
              "      <td>1513224808476</td>\n",
              "    </tr>\n",
              "    <tr>\n",
              "      <th>21468995</th>\n",
              "      <td>M000MjVPdEM0MzMzNzA3MTAyMDE5MQ</td>\n",
              "      <td>1</td>\n",
              "      <td>95</td>\n",
              "      <td>1513224808476</td>\n",
              "    </tr>\n",
              "    <tr>\n",
              "      <th>21468998</th>\n",
              "      <td>M000MjVPdEM0MzMzNzA3MTAyMDE5MQ</td>\n",
              "      <td>1</td>\n",
              "      <td>95</td>\n",
              "      <td>1513253353017</td>\n",
              "    </tr>\n",
              "    <tr>\n",
              "      <th>21468996</th>\n",
              "      <td>M000MjVPdEM0MzMzNzA3MTAyMDE5MQ</td>\n",
              "      <td>1</td>\n",
              "      <td>95</td>\n",
              "      <td>1513253543747</td>\n",
              "    </tr>\n",
              "    <tr>\n",
              "      <th>21468997</th>\n",
              "      <td>M000MjVPdEM0MzMzNzA3MTAyMDE5MQ</td>\n",
              "      <td>1</td>\n",
              "      <td>95</td>\n",
              "      <td>1513253543747</td>\n",
              "    </tr>\n",
              "    <tr>\n",
              "      <th>21468985</th>\n",
              "      <td>M000MjVPdEM0MzMzNzA3MTAyMDE5MQ</td>\n",
              "      <td>1</td>\n",
              "      <td>95</td>\n",
              "      <td>1513261453988</td>\n",
              "    </tr>\n",
              "    <tr>\n",
              "      <th>21468986</th>\n",
              "      <td>M000MjVPdEM0MzMzNzA3MTAyMDE5MQ</td>\n",
              "      <td>1</td>\n",
              "      <td>95</td>\n",
              "      <td>1513261453988</td>\n",
              "    </tr>\n",
              "    <tr>\n",
              "      <th>21468987</th>\n",
              "      <td>M000MjVPdEM0MzMzNzA3MTAyMDE5MQ</td>\n",
              "      <td>1</td>\n",
              "      <td>95</td>\n",
              "      <td>1513261453988</td>\n",
              "    </tr>\n",
              "    <tr>\n",
              "      <th>21468988</th>\n",
              "      <td>M000MjVPdEM0MzMzNzA3MTAyMDE5MQ</td>\n",
              "      <td>1</td>\n",
              "      <td>95</td>\n",
              "      <td>1513261453988</td>\n",
              "    </tr>\n",
              "    <tr>\n",
              "      <th>21468989</th>\n",
              "      <td>M000MjVPdEM0MzMzNzA3MTAyMDE5MQ</td>\n",
              "      <td>1</td>\n",
              "      <td>95</td>\n",
              "      <td>1513261453988</td>\n",
              "    </tr>\n",
              "    <tr>\n",
              "      <th>21468990</th>\n",
              "      <td>M000MjVPdEM0MzMzNzA3MTAyMDE5MQ</td>\n",
              "      <td>1</td>\n",
              "      <td>95</td>\n",
              "      <td>1513261453988</td>\n",
              "    </tr>\n",
              "  </tbody>\n",
              "</table>\n",
              "</div>\n",
              "      <button class=\"colab-df-convert\" onclick=\"convertToInteractive('df-f37c476d-a3a1-47f7-970a-dc5e9c922d2e')\"\n",
              "              title=\"Convert this dataframe to an interactive table.\"\n",
              "              style=\"display:none;\">\n",
              "        \n",
              "  <svg xmlns=\"http://www.w3.org/2000/svg\" height=\"24px\"viewBox=\"0 0 24 24\"\n",
              "       width=\"24px\">\n",
              "    <path d=\"M0 0h24v24H0V0z\" fill=\"none\"/>\n",
              "    <path d=\"M18.56 5.44l.94 2.06.94-2.06 2.06-.94-2.06-.94-.94-2.06-.94 2.06-2.06.94zm-11 1L8.5 8.5l.94-2.06 2.06-.94-2.06-.94L8.5 2.5l-.94 2.06-2.06.94zm10 10l.94 2.06.94-2.06 2.06-.94-2.06-.94-.94-2.06-.94 2.06-2.06.94z\"/><path d=\"M17.41 7.96l-1.37-1.37c-.4-.4-.92-.59-1.43-.59-.52 0-1.04.2-1.43.59L10.3 9.45l-7.72 7.72c-.78.78-.78 2.05 0 2.83L4 21.41c.39.39.9.59 1.41.59.51 0 1.02-.2 1.41-.59l7.78-7.78 2.81-2.81c.8-.78.8-2.07 0-2.86zM5.41 20L4 18.59l7.72-7.72 1.47 1.35L5.41 20z\"/>\n",
              "  </svg>\n",
              "      </button>\n",
              "      \n",
              "  <style>\n",
              "    .colab-df-container {\n",
              "      display:flex;\n",
              "      flex-wrap:wrap;\n",
              "      gap: 12px;\n",
              "    }\n",
              "\n",
              "    .colab-df-convert {\n",
              "      background-color: #E8F0FE;\n",
              "      border: none;\n",
              "      border-radius: 50%;\n",
              "      cursor: pointer;\n",
              "      display: none;\n",
              "      fill: #1967D2;\n",
              "      height: 32px;\n",
              "      padding: 0 0 0 0;\n",
              "      width: 32px;\n",
              "    }\n",
              "\n",
              "    .colab-df-convert:hover {\n",
              "      background-color: #E2EBFA;\n",
              "      box-shadow: 0px 1px 2px rgba(60, 64, 67, 0.3), 0px 1px 3px 1px rgba(60, 64, 67, 0.15);\n",
              "      fill: #174EA6;\n",
              "    }\n",
              "\n",
              "    [theme=dark] .colab-df-convert {\n",
              "      background-color: #3B4455;\n",
              "      fill: #D2E3FC;\n",
              "    }\n",
              "\n",
              "    [theme=dark] .colab-df-convert:hover {\n",
              "      background-color: #434B5C;\n",
              "      box-shadow: 0px 1px 3px 1px rgba(0, 0, 0, 0.15);\n",
              "      filter: drop-shadow(0px 1px 2px rgba(0, 0, 0, 0.3));\n",
              "      fill: #FFFFFF;\n",
              "    }\n",
              "  </style>\n",
              "\n",
              "      <script>\n",
              "        const buttonEl =\n",
              "          document.querySelector('#df-f37c476d-a3a1-47f7-970a-dc5e9c922d2e button.colab-df-convert');\n",
              "        buttonEl.style.display =\n",
              "          google.colab.kernel.accessAllowed ? 'block' : 'none';\n",
              "\n",
              "        async function convertToInteractive(key) {\n",
              "          const element = document.querySelector('#df-f37c476d-a3a1-47f7-970a-dc5e9c922d2e');\n",
              "          const dataTable =\n",
              "            await google.colab.kernel.invokeFunction('convertToInteractive',\n",
              "                                                     [key], {});\n",
              "          if (!dataTable) return;\n",
              "\n",
              "          const docLinkHtml = 'Like what you see? Visit the ' +\n",
              "            '<a target=\"_blank\" href=https://colab.research.google.com/notebooks/data_table.ipynb>data table notebook</a>'\n",
              "            + ' to learn more about interactive tables.';\n",
              "          element.innerHTML = '';\n",
              "          dataTable['output_type'] = 'display_data';\n",
              "          await google.colab.output.renderOutput(dataTable, element);\n",
              "          const docLink = document.createElement('div');\n",
              "          docLink.innerHTML = docLinkHtml;\n",
              "          element.appendChild(docLink);\n",
              "        }\n",
              "      </script>\n",
              "    </div>\n",
              "  </div>\n",
              "  "
            ]
          },
          "metadata": {},
          "execution_count": 14
        }
      ]
    },
    {
      "cell_type": "markdown",
      "source": [
        "### Принятие решения относительно повторяющихся строк\n",
        "\n",
        "\n",
        "---\n",
        "\n",
        "\n",
        "Как видно из полученных результатов, есть события, которые были совершенны одновременно (причем для одного и того же уровня).\n",
        "\n",
        "**Есть два предположения на этот счет:**\n",
        "\n",
        " 1. Возможно, это просто аномалия и можно принять повторяющиеся записи по времени как за одну попытку;\n",
        " 2. Пользователь мог проходить уровень в офлайне, и после того, как он подключился к интернету, офлайновые данные догрузились в нашу таблицу.\n",
        "    \n",
        "Навряд ли это аномальные значения, т.к их слишком много. Плюс ко всему, я считаю не целесообразным исключать из таблицы 75 % наблюдений, поэтому будем придерживаться второго варианта. Все-таки это могут быть реальные попытки пользователей.\n",
        "\n",
        "P.S. Но было бы неплохо поговорить с разработчиками по этому поводу, как у них реализуется этот алгоритм!"
      ],
      "metadata": {
        "id": "iPkHiMIsVJta"
      }
    },
    {
      "cell_type": "markdown",
      "source": [
        "## **Начало анализа**\n",
        "\n",
        "\n",
        "---\n",
        "\n",
        "\n",
        "### **Задача 1. Выбирем и расчитаем метрику, которая хорошо описывает сложность уровней**"
      ],
      "metadata": {
        "id": "2MtXTIVNWHCn"
      }
    },
    {
      "cell_type": "code",
      "source": [
        "# Построим сводную таблицу для каждлого уровня игры и количество всех успешных и неуспешных попыток каждого пользователя\n",
        "\n",
        "table = pd.pivot_table(df, index = \"level\", columns = \"action\", values = \"uid\", aggfunc = np.count_nonzero)\n",
        "table.head(5)"
      ],
      "metadata": {
        "colab": {
          "base_uri": "https://localhost:8080/",
          "height": 238
        },
        "id": "mSeoU8uBvZ-G",
        "outputId": "4f4ba975-4a13-4227-9980-1800fbbf2f35"
      },
      "execution_count": 15,
      "outputs": [
        {
          "output_type": "execute_result",
          "data": {
            "text/plain": [
              "action      0     1\n",
              "level              \n",
              "1       25140    17\n",
              "2       22436   877\n",
              "3       21687  1947\n",
              "4       21322   314\n",
              "5       20769  6423"
            ],
            "text/html": [
              "\n",
              "  <div id=\"df-fad8b787-b757-4f0a-9c52-3435cfb2b50a\">\n",
              "    <div class=\"colab-df-container\">\n",
              "      <div>\n",
              "<style scoped>\n",
              "    .dataframe tbody tr th:only-of-type {\n",
              "        vertical-align: middle;\n",
              "    }\n",
              "\n",
              "    .dataframe tbody tr th {\n",
              "        vertical-align: top;\n",
              "    }\n",
              "\n",
              "    .dataframe thead th {\n",
              "        text-align: right;\n",
              "    }\n",
              "</style>\n",
              "<table border=\"1\" class=\"dataframe\">\n",
              "  <thead>\n",
              "    <tr style=\"text-align: right;\">\n",
              "      <th>action</th>\n",
              "      <th>0</th>\n",
              "      <th>1</th>\n",
              "    </tr>\n",
              "    <tr>\n",
              "      <th>level</th>\n",
              "      <th></th>\n",
              "      <th></th>\n",
              "    </tr>\n",
              "  </thead>\n",
              "  <tbody>\n",
              "    <tr>\n",
              "      <th>1</th>\n",
              "      <td>25140</td>\n",
              "      <td>17</td>\n",
              "    </tr>\n",
              "    <tr>\n",
              "      <th>2</th>\n",
              "      <td>22436</td>\n",
              "      <td>877</td>\n",
              "    </tr>\n",
              "    <tr>\n",
              "      <th>3</th>\n",
              "      <td>21687</td>\n",
              "      <td>1947</td>\n",
              "    </tr>\n",
              "    <tr>\n",
              "      <th>4</th>\n",
              "      <td>21322</td>\n",
              "      <td>314</td>\n",
              "    </tr>\n",
              "    <tr>\n",
              "      <th>5</th>\n",
              "      <td>20769</td>\n",
              "      <td>6423</td>\n",
              "    </tr>\n",
              "  </tbody>\n",
              "</table>\n",
              "</div>\n",
              "      <button class=\"colab-df-convert\" onclick=\"convertToInteractive('df-fad8b787-b757-4f0a-9c52-3435cfb2b50a')\"\n",
              "              title=\"Convert this dataframe to an interactive table.\"\n",
              "              style=\"display:none;\">\n",
              "        \n",
              "  <svg xmlns=\"http://www.w3.org/2000/svg\" height=\"24px\"viewBox=\"0 0 24 24\"\n",
              "       width=\"24px\">\n",
              "    <path d=\"M0 0h24v24H0V0z\" fill=\"none\"/>\n",
              "    <path d=\"M18.56 5.44l.94 2.06.94-2.06 2.06-.94-2.06-.94-.94-2.06-.94 2.06-2.06.94zm-11 1L8.5 8.5l.94-2.06 2.06-.94-2.06-.94L8.5 2.5l-.94 2.06-2.06.94zm10 10l.94 2.06.94-2.06 2.06-.94-2.06-.94-.94-2.06-.94 2.06-2.06.94z\"/><path d=\"M17.41 7.96l-1.37-1.37c-.4-.4-.92-.59-1.43-.59-.52 0-1.04.2-1.43.59L10.3 9.45l-7.72 7.72c-.78.78-.78 2.05 0 2.83L4 21.41c.39.39.9.59 1.41.59.51 0 1.02-.2 1.41-.59l7.78-7.78 2.81-2.81c.8-.78.8-2.07 0-2.86zM5.41 20L4 18.59l7.72-7.72 1.47 1.35L5.41 20z\"/>\n",
              "  </svg>\n",
              "      </button>\n",
              "      \n",
              "  <style>\n",
              "    .colab-df-container {\n",
              "      display:flex;\n",
              "      flex-wrap:wrap;\n",
              "      gap: 12px;\n",
              "    }\n",
              "\n",
              "    .colab-df-convert {\n",
              "      background-color: #E8F0FE;\n",
              "      border: none;\n",
              "      border-radius: 50%;\n",
              "      cursor: pointer;\n",
              "      display: none;\n",
              "      fill: #1967D2;\n",
              "      height: 32px;\n",
              "      padding: 0 0 0 0;\n",
              "      width: 32px;\n",
              "    }\n",
              "\n",
              "    .colab-df-convert:hover {\n",
              "      background-color: #E2EBFA;\n",
              "      box-shadow: 0px 1px 2px rgba(60, 64, 67, 0.3), 0px 1px 3px 1px rgba(60, 64, 67, 0.15);\n",
              "      fill: #174EA6;\n",
              "    }\n",
              "\n",
              "    [theme=dark] .colab-df-convert {\n",
              "      background-color: #3B4455;\n",
              "      fill: #D2E3FC;\n",
              "    }\n",
              "\n",
              "    [theme=dark] .colab-df-convert:hover {\n",
              "      background-color: #434B5C;\n",
              "      box-shadow: 0px 1px 3px 1px rgba(0, 0, 0, 0.15);\n",
              "      filter: drop-shadow(0px 1px 2px rgba(0, 0, 0, 0.3));\n",
              "      fill: #FFFFFF;\n",
              "    }\n",
              "  </style>\n",
              "\n",
              "      <script>\n",
              "        const buttonEl =\n",
              "          document.querySelector('#df-fad8b787-b757-4f0a-9c52-3435cfb2b50a button.colab-df-convert');\n",
              "        buttonEl.style.display =\n",
              "          google.colab.kernel.accessAllowed ? 'block' : 'none';\n",
              "\n",
              "        async function convertToInteractive(key) {\n",
              "          const element = document.querySelector('#df-fad8b787-b757-4f0a-9c52-3435cfb2b50a');\n",
              "          const dataTable =\n",
              "            await google.colab.kernel.invokeFunction('convertToInteractive',\n",
              "                                                     [key], {});\n",
              "          if (!dataTable) return;\n",
              "\n",
              "          const docLinkHtml = 'Like what you see? Visit the ' +\n",
              "            '<a target=\"_blank\" href=https://colab.research.google.com/notebooks/data_table.ipynb>data table notebook</a>'\n",
              "            + ' to learn more about interactive tables.';\n",
              "          element.innerHTML = '';\n",
              "          dataTable['output_type'] = 'display_data';\n",
              "          await google.colab.output.renderOutput(dataTable, element);\n",
              "          const docLink = document.createElement('div');\n",
              "          docLink.innerHTML = docLinkHtml;\n",
              "          element.appendChild(docLink);\n",
              "        }\n",
              "      </script>\n",
              "    </div>\n",
              "  </div>\n",
              "  "
            ]
          },
          "metadata": {},
          "execution_count": 15
        }
      ]
    },
    {
      "cell_type": "code",
      "source": [
        "# Расчитаем долю неуспешных попыток каждого уровня относительно общего числа попыток для этого уровня\n",
        "\n",
        "table[\"percentage_of_failed_attempts\"] = round((table[1] / (table[0] + table[1])) * 100, 1)\n",
        "table.head(5)"
      ],
      "metadata": {
        "colab": {
          "base_uri": "https://localhost:8080/",
          "height": 238
        },
        "id": "ekMyuvq1zTN0",
        "outputId": "7c88058f-9129-4058-849d-b1d265ecd73d"
      },
      "execution_count": 16,
      "outputs": [
        {
          "output_type": "execute_result",
          "data": {
            "text/plain": [
              "action      0     1  percentage_of_failed_attempts\n",
              "level                                             \n",
              "1       25140    17                            0.1\n",
              "2       22436   877                            3.8\n",
              "3       21687  1947                            8.2\n",
              "4       21322   314                            1.5\n",
              "5       20769  6423                           23.6"
            ],
            "text/html": [
              "\n",
              "  <div id=\"df-67017827-e148-41c7-8ec5-e2807c7a689b\">\n",
              "    <div class=\"colab-df-container\">\n",
              "      <div>\n",
              "<style scoped>\n",
              "    .dataframe tbody tr th:only-of-type {\n",
              "        vertical-align: middle;\n",
              "    }\n",
              "\n",
              "    .dataframe tbody tr th {\n",
              "        vertical-align: top;\n",
              "    }\n",
              "\n",
              "    .dataframe thead th {\n",
              "        text-align: right;\n",
              "    }\n",
              "</style>\n",
              "<table border=\"1\" class=\"dataframe\">\n",
              "  <thead>\n",
              "    <tr style=\"text-align: right;\">\n",
              "      <th>action</th>\n",
              "      <th>0</th>\n",
              "      <th>1</th>\n",
              "      <th>percentage_of_failed_attempts</th>\n",
              "    </tr>\n",
              "    <tr>\n",
              "      <th>level</th>\n",
              "      <th></th>\n",
              "      <th></th>\n",
              "      <th></th>\n",
              "    </tr>\n",
              "  </thead>\n",
              "  <tbody>\n",
              "    <tr>\n",
              "      <th>1</th>\n",
              "      <td>25140</td>\n",
              "      <td>17</td>\n",
              "      <td>0.1</td>\n",
              "    </tr>\n",
              "    <tr>\n",
              "      <th>2</th>\n",
              "      <td>22436</td>\n",
              "      <td>877</td>\n",
              "      <td>3.8</td>\n",
              "    </tr>\n",
              "    <tr>\n",
              "      <th>3</th>\n",
              "      <td>21687</td>\n",
              "      <td>1947</td>\n",
              "      <td>8.2</td>\n",
              "    </tr>\n",
              "    <tr>\n",
              "      <th>4</th>\n",
              "      <td>21322</td>\n",
              "      <td>314</td>\n",
              "      <td>1.5</td>\n",
              "    </tr>\n",
              "    <tr>\n",
              "      <th>5</th>\n",
              "      <td>20769</td>\n",
              "      <td>6423</td>\n",
              "      <td>23.6</td>\n",
              "    </tr>\n",
              "  </tbody>\n",
              "</table>\n",
              "</div>\n",
              "      <button class=\"colab-df-convert\" onclick=\"convertToInteractive('df-67017827-e148-41c7-8ec5-e2807c7a689b')\"\n",
              "              title=\"Convert this dataframe to an interactive table.\"\n",
              "              style=\"display:none;\">\n",
              "        \n",
              "  <svg xmlns=\"http://www.w3.org/2000/svg\" height=\"24px\"viewBox=\"0 0 24 24\"\n",
              "       width=\"24px\">\n",
              "    <path d=\"M0 0h24v24H0V0z\" fill=\"none\"/>\n",
              "    <path d=\"M18.56 5.44l.94 2.06.94-2.06 2.06-.94-2.06-.94-.94-2.06-.94 2.06-2.06.94zm-11 1L8.5 8.5l.94-2.06 2.06-.94-2.06-.94L8.5 2.5l-.94 2.06-2.06.94zm10 10l.94 2.06.94-2.06 2.06-.94-2.06-.94-.94-2.06-.94 2.06-2.06.94z\"/><path d=\"M17.41 7.96l-1.37-1.37c-.4-.4-.92-.59-1.43-.59-.52 0-1.04.2-1.43.59L10.3 9.45l-7.72 7.72c-.78.78-.78 2.05 0 2.83L4 21.41c.39.39.9.59 1.41.59.51 0 1.02-.2 1.41-.59l7.78-7.78 2.81-2.81c.8-.78.8-2.07 0-2.86zM5.41 20L4 18.59l7.72-7.72 1.47 1.35L5.41 20z\"/>\n",
              "  </svg>\n",
              "      </button>\n",
              "      \n",
              "  <style>\n",
              "    .colab-df-container {\n",
              "      display:flex;\n",
              "      flex-wrap:wrap;\n",
              "      gap: 12px;\n",
              "    }\n",
              "\n",
              "    .colab-df-convert {\n",
              "      background-color: #E8F0FE;\n",
              "      border: none;\n",
              "      border-radius: 50%;\n",
              "      cursor: pointer;\n",
              "      display: none;\n",
              "      fill: #1967D2;\n",
              "      height: 32px;\n",
              "      padding: 0 0 0 0;\n",
              "      width: 32px;\n",
              "    }\n",
              "\n",
              "    .colab-df-convert:hover {\n",
              "      background-color: #E2EBFA;\n",
              "      box-shadow: 0px 1px 2px rgba(60, 64, 67, 0.3), 0px 1px 3px 1px rgba(60, 64, 67, 0.15);\n",
              "      fill: #174EA6;\n",
              "    }\n",
              "\n",
              "    [theme=dark] .colab-df-convert {\n",
              "      background-color: #3B4455;\n",
              "      fill: #D2E3FC;\n",
              "    }\n",
              "\n",
              "    [theme=dark] .colab-df-convert:hover {\n",
              "      background-color: #434B5C;\n",
              "      box-shadow: 0px 1px 3px 1px rgba(0, 0, 0, 0.15);\n",
              "      filter: drop-shadow(0px 1px 2px rgba(0, 0, 0, 0.3));\n",
              "      fill: #FFFFFF;\n",
              "    }\n",
              "  </style>\n",
              "\n",
              "      <script>\n",
              "        const buttonEl =\n",
              "          document.querySelector('#df-67017827-e148-41c7-8ec5-e2807c7a689b button.colab-df-convert');\n",
              "        buttonEl.style.display =\n",
              "          google.colab.kernel.accessAllowed ? 'block' : 'none';\n",
              "\n",
              "        async function convertToInteractive(key) {\n",
              "          const element = document.querySelector('#df-67017827-e148-41c7-8ec5-e2807c7a689b');\n",
              "          const dataTable =\n",
              "            await google.colab.kernel.invokeFunction('convertToInteractive',\n",
              "                                                     [key], {});\n",
              "          if (!dataTable) return;\n",
              "\n",
              "          const docLinkHtml = 'Like what you see? Visit the ' +\n",
              "            '<a target=\"_blank\" href=https://colab.research.google.com/notebooks/data_table.ipynb>data table notebook</a>'\n",
              "            + ' to learn more about interactive tables.';\n",
              "          element.innerHTML = '';\n",
              "          dataTable['output_type'] = 'display_data';\n",
              "          await google.colab.output.renderOutput(dataTable, element);\n",
              "          const docLink = document.createElement('div');\n",
              "          docLink.innerHTML = docLinkHtml;\n",
              "          element.appendChild(docLink);\n",
              "        }\n",
              "      </script>\n",
              "    </div>\n",
              "  </div>\n",
              "  "
            ]
          },
          "metadata": {},
          "execution_count": 16
        }
      ]
    },
    {
      "cell_type": "markdown",
      "source": [
        "### Почему, по моему мнению, данная метрика хороша в условиях поставленной задачи\n",
        "\n",
        "1. Данная метрика не привязана к размеру выборки попыток каждого уровня, мы находим долю неправильных уровней по отношению к общему количеству попыток;\n",
        "2. Ее можно легко отслеживать и корректировать, регулирая количество удачных и неудачных исходов: \n",
        "*   Хотим ее уменьшения (чтобы игрок не забросил игру из-за сложности) - всяечески помогаем игроку; \n",
        "*   Нужно увеличить ее (чтобы игрок подумал о покупке хэлперов) - уменьшаем помощь, подсказки."
      ],
      "metadata": {
        "id": "63DY1eW8DsVf"
      }
    },
    {
      "cell_type": "markdown",
      "source": [
        "### **Задача 2. С помощью выявленной метрики классифицируем уровни по сложности**\n",
        "\n",
        "Важным моментом является регулировка сложности наших уровней:\n",
        "\n",
        "\n",
        "\n",
        "*   Если будет слишком просто (первые уровни не в счет), то пользователь не будет тратиться на внутриигровые бонусы или, если тенденция легких уровней будет продолжаться достаточно долго, игроку станет скучно, надоест наша игра;\n",
        "*   Если будет слишком сложно, то пользователь просто уйдет из игры.\n",
        "\n",
        "**Поэтому будет разумно присвоить каждому уровню класс сложности и мониторить этот момент (увеличивая или уменьшая сложность).**\n",
        "\n",
        "Начнем с нахождения порогов классификации.\n"
      ],
      "metadata": {
        "id": "oJLwPd0wGwkY"
      }
    },
    {
      "cell_type": "code",
      "source": [
        "# Построим гитсограмму частот уровней по их доле неудачных попыток\n",
        "\n",
        "sns.displot(\n",
        "    table, x=\"percentage_of_failed_attempts\",\n",
        "    binwidth=5, height=10, facet_kws=dict(margin_titles=True),\n",
        ")"
      ],
      "metadata": {
        "colab": {
          "base_uri": "https://localhost:8080/",
          "height": 747
        },
        "id": "YmrDOjRpG0UD",
        "outputId": "1339b4ec-4bc8-4e6e-961e-86f23dfa001c"
      },
      "execution_count": 17,
      "outputs": [
        {
          "output_type": "execute_result",
          "data": {
            "text/plain": [
              "<seaborn.axisgrid.FacetGrid at 0x7fd1fca3b250>"
            ]
          },
          "metadata": {},
          "execution_count": 17
        },
        {
          "output_type": "display_data",
          "data": {
            "text/plain": [
              "<Figure size 720x720 with 1 Axes>"
            ],
            "image/png": "[encoded data removed]"
          },
          "metadata": {
            "needs_background": "light"
          }
        }
      ]
    },
    {
      "cell_type": "markdown",
      "source": [
        "### Что показывает нам эта гистограмма\n",
        "\n",
        "Как видно, большая часть сосредоточена в правой стороне. Это означает, что в целом большая часть уровней имеет долю неудачных попыток > 65 % (приблизительно). Также на этом графике можно выделить 3 области. Сделаем разбиение сложностей уровней на основе их количества (причастности к одной из областей):\n",
        "\n",
        "**Сложность уровней:**\n",
        "\n",
        "*   [0:65) - Легкий\n",
        "*   [65:80) - Средний\n",
        "*   [80:100] - Сложный\n",
        "\n",
        "**Пояснение принятия такого решения:**\n",
        "\n",
        "На гистограмме видна положительная корелляция между количеством уровней и процентом доли неудачных попыток (левую часть нет смысла рассматривать, т.к. в основном туда попали первые уровни, а они должны быть очень легкими, для того чтобы не спугнуть игрока в самом начале). Если повышается наша метрика, то и увеличивается количестов уровней. Из этого следует мое предположение о том, что можно соотнести сложность уровней с их количеством (в конце у нас начинается спад, но я думаю это обусловлено тем, что количество настолько сложных уровней должно понижаться, чтобы игрок не бросил это дело).\n",
        "\n",
        "В целом можно было бы разделить уровни только на две категории (легкие и сложные), но я считаю, что правильней было бы найти так называемую золотую середину, где у игрока с одной стороны есть реальные шансы пройти этот уровень без хэлперов (чтобы он сам понимал, что может пройти его без подручных средств), но в то же время был соблазн \"добить\" его с помощью покупки внутриигровых бонусов (или с помощью просмотра контекстной рекламы)."
      ],
      "metadata": {
        "id": "1QhtAnDbJnAa"
      }
    },
    {
      "cell_type": "code",
      "source": [
        "# Присвоим класс сложности для каждого уровня\n",
        "\n",
        "table[\"class_of_level\"] = table[\"percentage_of_failed_attempts\"] \\\n",
        ".apply(lambda x: \"Легкий\" if x >= 0 and x < 65 else (\"Средний\" if x >= 65 and x < 80 else \"Сложный\"))"
      ],
      "metadata": {
        "id": "SRhHAncKLlUW"
      },
      "execution_count": 18,
      "outputs": []
    },
    {
      "cell_type": "code",
      "source": [
        "# Посчитаем, сколько уровней в каждом классе\n",
        "\n",
        "table.value_counts(\"class_of_level\")"
      ],
      "metadata": {
        "colab": {
          "base_uri": "https://localhost:8080/"
        },
        "id": "iOsALa8nOkyf",
        "outputId": "5907f095-8bec-4088-9cbd-91d42d17f4e9"
      },
      "execution_count": 19,
      "outputs": [
        {
          "output_type": "execute_result",
          "data": {
            "text/plain": [
              "class_of_level\n",
              "Сложный    293\n",
              "Средний    169\n",
              "Легкий      38\n",
              "dtype: int64"
            ]
          },
          "metadata": {},
          "execution_count": 19
        }
      ]
    },
    {
      "cell_type": "code",
      "source": [
        "# В процентном соотношении\n",
        "\n",
        "table.value_counts(\"class_of_level\", normalize = True) * 100"
      ],
      "metadata": {
        "colab": {
          "base_uri": "https://localhost:8080/"
        },
        "id": "AykyweqMO7g7",
        "outputId": "e307b0e4-3a98-471c-e740-c1e82ab4cf5b"
      },
      "execution_count": 20,
      "outputs": [
        {
          "output_type": "execute_result",
          "data": {
            "text/plain": [
              "class_of_level\n",
              "Сложный    58.6\n",
              "Средний    33.8\n",
              "Легкий      7.6\n",
              "dtype: float64"
            ]
          },
          "metadata": {},
          "execution_count": 20
        }
      ]
    },
    {
      "cell_type": "markdown",
      "source": [
        "### **Задача 3. Рассчитаем \"воронку\" прохождения уровней новым пользователем после установки игры.**\n",
        "\n",
        "Данный анализ позволит увидеть нам до каких вообще уровней доходят наши новые игроки. Приступим!\n",
        "\n",
        "Для начала отберем только тех игроков в датасете, по которым есть информация о прохождение ими первого уровня (их и будем считать новыми пользователями)."
      ],
      "metadata": {
        "id": "XRiCXz2oeysb"
      }
    },
    {
      "cell_type": "code",
      "source": [
        "list_of_new_players = df.query(\"level == 1\")[\"uid\"].unique()\n",
        "list_of_new_players.size\n",
        "\n",
        "# 24162 новых ползователей"
      ],
      "metadata": {
        "colab": {
          "base_uri": "https://localhost:8080/"
        },
        "id": "rRs2jlrTgDuB",
        "outputId": "1f58fedd-da87-47e5-ae6a-8a8d0bc80273"
      },
      "execution_count": 21,
      "outputs": [
        {
          "output_type": "execute_result",
          "data": {
            "text/plain": [
              "24162"
            ]
          },
          "metadata": {},
          "execution_count": 21
        }
      ]
    },
    {
      "cell_type": "code",
      "source": [
        "# Посмотрим в каком временном промежутке у нас появилось такое количество новых пользователей\n",
        "\n",
        "df[\"date\"] = pd.to_datetime(df.event_time / 1000, unit=\"s\")\n",
        "min_date = df.date.min()\n",
        "max_date = df.date.max()"
      ],
      "metadata": {
        "id": "qP5wpLfPgcdt"
      },
      "execution_count": 22,
      "outputs": []
    },
    {
      "cell_type": "code",
      "source": [
        "list([min_date, max_date])\n",
        "\n",
        "# 24162 новых пользователей в период с 01.12.2017 до 31.12.2017"
      ],
      "metadata": {
        "colab": {
          "base_uri": "https://localhost:8080/"
        },
        "id": "-58z3Vy9hSnd",
        "outputId": "5e20645b-06d5-4b8d-917d-ac919cea364c"
      },
      "execution_count": 23,
      "outputs": [
        {
          "output_type": "execute_result",
          "data": {
            "text/plain": [
              "[Timestamp('2017-12-01 00:00:00.272000'),\n",
              " Timestamp('2017-12-31 23:59:59.867000064')]"
            ]
          },
          "metadata": {},
          "execution_count": 23
        }
      ]
    },
    {
      "cell_type": "code",
      "source": [
        "# Создадим новую табличку, включающую только новых пользователей\n",
        "\n",
        "df_with_new_players = df[df[\"uid\"].isin(list_of_new_players)]\n",
        "df_with_new_players.head(5)"
      ],
      "metadata": {
        "colab": {
          "base_uri": "https://localhost:8080/",
          "height": 206
        },
        "id": "WI5-VLWUh6p2",
        "outputId": "7acfb997-6821-43e8-aff4-b20369748eae"
      },
      "execution_count": 24,
      "outputs": [
        {
          "output_type": "execute_result",
          "data": {
            "text/plain": [
              "                               uid  action  level     event_time  \\\n",
              "41  ajZkQU9zSDQ5Mzk0NjE3MTAyMjExMA       1      9  1512159325078   \n",
              "42  ajZkQU9zSDQ5Mzk0NjE3MTAyMjExMA       0      8  1512159325078   \n",
              "43  ajZkQU9zSDQ5Mzk0NjE3MTAyMjExMA       0      7  1512159325078   \n",
              "44  ajZkQU9zSDQ5Mzk0NjE3MTAyMjExMA       1      7  1512153721854   \n",
              "45  ajZkQU9zSDQ5Mzk0NjE3MTAyMjExMA       1      7  1512153721854   \n",
              "\n",
              "                            date  \n",
              "41 2017-12-01 20:15:25.078000128  \n",
              "42 2017-12-01 20:15:25.078000128  \n",
              "43 2017-12-01 20:15:25.078000128  \n",
              "44 2017-12-01 18:42:01.854000128  \n",
              "45 2017-12-01 18:42:01.854000128  "
            ],
            "text/html": [
              "\n",
              "  <div id=\"df-544db52d-c1dd-4cf6-b29d-ca72981020f8\">\n",
              "    <div class=\"colab-df-container\">\n",
              "      <div>\n",
              "<style scoped>\n",
              "    .dataframe tbody tr th:only-of-type {\n",
              "        vertical-align: middle;\n",
              "    }\n",
              "\n",
              "    .dataframe tbody tr th {\n",
              "        vertical-align: top;\n",
              "    }\n",
              "\n",
              "    .dataframe thead th {\n",
              "        text-align: right;\n",
              "    }\n",
              "</style>\n",
              "<table border=\"1\" class=\"dataframe\">\n",
              "  <thead>\n",
              "    <tr style=\"text-align: right;\">\n",
              "      <th></th>\n",
              "      <th>uid</th>\n",
              "      <th>action</th>\n",
              "      <th>level</th>\n",
              "      <th>event_time</th>\n",
              "      <th>date</th>\n",
              "    </tr>\n",
              "  </thead>\n",
              "  <tbody>\n",
              "    <tr>\n",
              "      <th>41</th>\n",
              "      <td>ajZkQU9zSDQ5Mzk0NjE3MTAyMjExMA</td>\n",
              "      <td>1</td>\n",
              "      <td>9</td>\n",
              "      <td>1512159325078</td>\n",
              "      <td>2017-12-01 20:15:25.078000128</td>\n",
              "    </tr>\n",
              "    <tr>\n",
              "      <th>42</th>\n",
              "      <td>ajZkQU9zSDQ5Mzk0NjE3MTAyMjExMA</td>\n",
              "      <td>0</td>\n",
              "      <td>8</td>\n",
              "      <td>1512159325078</td>\n",
              "      <td>2017-12-01 20:15:25.078000128</td>\n",
              "    </tr>\n",
              "    <tr>\n",
              "      <th>43</th>\n",
              "      <td>ajZkQU9zSDQ5Mzk0NjE3MTAyMjExMA</td>\n",
              "      <td>0</td>\n",
              "      <td>7</td>\n",
              "      <td>1512159325078</td>\n",
              "      <td>2017-12-01 20:15:25.078000128</td>\n",
              "    </tr>\n",
              "    <tr>\n",
              "      <th>44</th>\n",
              "      <td>ajZkQU9zSDQ5Mzk0NjE3MTAyMjExMA</td>\n",
              "      <td>1</td>\n",
              "      <td>7</td>\n",
              "      <td>1512153721854</td>\n",
              "      <td>2017-12-01 18:42:01.854000128</td>\n",
              "    </tr>\n",
              "    <tr>\n",
              "      <th>45</th>\n",
              "      <td>ajZkQU9zSDQ5Mzk0NjE3MTAyMjExMA</td>\n",
              "      <td>1</td>\n",
              "      <td>7</td>\n",
              "      <td>1512153721854</td>\n",
              "      <td>2017-12-01 18:42:01.854000128</td>\n",
              "    </tr>\n",
              "  </tbody>\n",
              "</table>\n",
              "</div>\n",
              "      <button class=\"colab-df-convert\" onclick=\"convertToInteractive('df-544db52d-c1dd-4cf6-b29d-ca72981020f8')\"\n",
              "              title=\"Convert this dataframe to an interactive table.\"\n",
              "              style=\"display:none;\">\n",
              "        \n",
              "  <svg xmlns=\"http://www.w3.org/2000/svg\" height=\"24px\"viewBox=\"0 0 24 24\"\n",
              "       width=\"24px\">\n",
              "    <path d=\"M0 0h24v24H0V0z\" fill=\"none\"/>\n",
              "    <path d=\"M18.56 5.44l.94 2.06.94-2.06 2.06-.94-2.06-.94-.94-2.06-.94 2.06-2.06.94zm-11 1L8.5 8.5l.94-2.06 2.06-.94-2.06-.94L8.5 2.5l-.94 2.06-2.06.94zm10 10l.94 2.06.94-2.06 2.06-.94-2.06-.94-.94-2.06-.94 2.06-2.06.94z\"/><path d=\"M17.41 7.96l-1.37-1.37c-.4-.4-.92-.59-1.43-.59-.52 0-1.04.2-1.43.59L10.3 9.45l-7.72 7.72c-.78.78-.78 2.05 0 2.83L4 21.41c.39.39.9.59 1.41.59.51 0 1.02-.2 1.41-.59l7.78-7.78 2.81-2.81c.8-.78.8-2.07 0-2.86zM5.41 20L4 18.59l7.72-7.72 1.47 1.35L5.41 20z\"/>\n",
              "  </svg>\n",
              "      </button>\n",
              "      \n",
              "  <style>\n",
              "    .colab-df-container {\n",
              "      display:flex;\n",
              "      flex-wrap:wrap;\n",
              "      gap: 12px;\n",
              "    }\n",
              "\n",
              "    .colab-df-convert {\n",
              "      background-color: #E8F0FE;\n",
              "      border: none;\n",
              "      border-radius: 50%;\n",
              "      cursor: pointer;\n",
              "      display: none;\n",
              "      fill: #1967D2;\n",
              "      height: 32px;\n",
              "      padding: 0 0 0 0;\n",
              "      width: 32px;\n",
              "    }\n",
              "\n",
              "    .colab-df-convert:hover {\n",
              "      background-color: #E2EBFA;\n",
              "      box-shadow: 0px 1px 2px rgba(60, 64, 67, 0.3), 0px 1px 3px 1px rgba(60, 64, 67, 0.15);\n",
              "      fill: #174EA6;\n",
              "    }\n",
              "\n",
              "    [theme=dark] .colab-df-convert {\n",
              "      background-color: #3B4455;\n",
              "      fill: #D2E3FC;\n",
              "    }\n",
              "\n",
              "    [theme=dark] .colab-df-convert:hover {\n",
              "      background-color: #434B5C;\n",
              "      box-shadow: 0px 1px 3px 1px rgba(0, 0, 0, 0.15);\n",
              "      filter: drop-shadow(0px 1px 2px rgba(0, 0, 0, 0.3));\n",
              "      fill: #FFFFFF;\n",
              "    }\n",
              "  </style>\n",
              "\n",
              "      <script>\n",
              "        const buttonEl =\n",
              "          document.querySelector('#df-544db52d-c1dd-4cf6-b29d-ca72981020f8 button.colab-df-convert');\n",
              "        buttonEl.style.display =\n",
              "          google.colab.kernel.accessAllowed ? 'block' : 'none';\n",
              "\n",
              "        async function convertToInteractive(key) {\n",
              "          const element = document.querySelector('#df-544db52d-c1dd-4cf6-b29d-ca72981020f8');\n",
              "          const dataTable =\n",
              "            await google.colab.kernel.invokeFunction('convertToInteractive',\n",
              "                                                     [key], {});\n",
              "          if (!dataTable) return;\n",
              "\n",
              "          const docLinkHtml = 'Like what you see? Visit the ' +\n",
              "            '<a target=\"_blank\" href=https://colab.research.google.com/notebooks/data_table.ipynb>data table notebook</a>'\n",
              "            + ' to learn more about interactive tables.';\n",
              "          element.innerHTML = '';\n",
              "          dataTable['output_type'] = 'display_data';\n",
              "          await google.colab.output.renderOutput(dataTable, element);\n",
              "          const docLink = document.createElement('div');\n",
              "          docLink.innerHTML = docLinkHtml;\n",
              "          element.appendChild(docLink);\n",
              "        }\n",
              "      </script>\n",
              "    </div>\n",
              "  </div>\n",
              "  "
            ]
          },
          "metadata": {},
          "execution_count": 24
        }
      ]
    },
    {
      "cell_type": "code",
      "source": [
        "# Находим максимальный уровень, до которого дошел каждый игрок за данный временной промежуток\n",
        "\n",
        "max_level_of_new_players = df_with_new_players.groupby(\"uid\", as_index = False).agg({\"level\" : [max]})\n",
        "max_level_of_new_players.head(5)"
      ],
      "metadata": {
        "colab": {
          "base_uri": "https://localhost:8080/",
          "height": 238
        },
        "id": "B85Cqm8mjI5k",
        "outputId": "bf25e619-b455-4082-8b11-4937e9d9196f"
      },
      "execution_count": 25,
      "outputs": [
        {
          "output_type": "execute_result",
          "data": {
            "text/plain": [
              "                              uid level\n",
              "                                    max\n",
              "0  M001TWRFNWc5MjQ1MDI3MTAyMjE5MA   151\n",
              "1  M001VTlGalU5MzcwMTI3MTAyMjE5Mg    23\n",
              "2  M010Z2VmOFgzMzgwMTI3MTAyMjE4Mg    33\n",
              "3  M01QQlBMVmo1NTcyODA3MTAyMjE4MQ    69\n",
              "4  M01TMDNDdzA0MDkwNzE3MTAyMjE2MA    55"
            ],
            "text/html": [
              "\n",
              "  <div id=\"df-db12fb48-e510-438c-8b10-0e175db00b05\">\n",
              "    <div class=\"colab-df-container\">\n",
              "      <div>\n",
              "<style scoped>\n",
              "    .dataframe tbody tr th:only-of-type {\n",
              "        vertical-align: middle;\n",
              "    }\n",
              "\n",
              "    .dataframe tbody tr th {\n",
              "        vertical-align: top;\n",
              "    }\n",
              "\n",
              "    .dataframe thead tr th {\n",
              "        text-align: left;\n",
              "    }\n",
              "</style>\n",
              "<table border=\"1\" class=\"dataframe\">\n",
              "  <thead>\n",
              "    <tr>\n",
              "      <th></th>\n",
              "      <th>uid</th>\n",
              "      <th>level</th>\n",
              "    </tr>\n",
              "    <tr>\n",
              "      <th></th>\n",
              "      <th></th>\n",
              "      <th>max</th>\n",
              "    </tr>\n",
              "  </thead>\n",
              "  <tbody>\n",
              "    <tr>\n",
              "      <th>0</th>\n",
              "      <td>M001TWRFNWc5MjQ1MDI3MTAyMjE5MA</td>\n",
              "      <td>151</td>\n",
              "    </tr>\n",
              "    <tr>\n",
              "      <th>1</th>\n",
              "      <td>M001VTlGalU5MzcwMTI3MTAyMjE5Mg</td>\n",
              "      <td>23</td>\n",
              "    </tr>\n",
              "    <tr>\n",
              "      <th>2</th>\n",
              "      <td>M010Z2VmOFgzMzgwMTI3MTAyMjE4Mg</td>\n",
              "      <td>33</td>\n",
              "    </tr>\n",
              "    <tr>\n",
              "      <th>3</th>\n",
              "      <td>M01QQlBMVmo1NTcyODA3MTAyMjE4MQ</td>\n",
              "      <td>69</td>\n",
              "    </tr>\n",
              "    <tr>\n",
              "      <th>4</th>\n",
              "      <td>M01TMDNDdzA0MDkwNzE3MTAyMjE2MA</td>\n",
              "      <td>55</td>\n",
              "    </tr>\n",
              "  </tbody>\n",
              "</table>\n",
              "</div>\n",
              "      <button class=\"colab-df-convert\" onclick=\"convertToInteractive('df-db12fb48-e510-438c-8b10-0e175db00b05')\"\n",
              "              title=\"Convert this dataframe to an interactive table.\"\n",
              "              style=\"display:none;\">\n",
              "        \n",
              "  <svg xmlns=\"http://www.w3.org/2000/svg\" height=\"24px\"viewBox=\"0 0 24 24\"\n",
              "       width=\"24px\">\n",
              "    <path d=\"M0 0h24v24H0V0z\" fill=\"none\"/>\n",
              "    <path d=\"M18.56 5.44l.94 2.06.94-2.06 2.06-.94-2.06-.94-.94-2.06-.94 2.06-2.06.94zm-11 1L8.5 8.5l.94-2.06 2.06-.94-2.06-.94L8.5 2.5l-.94 2.06-2.06.94zm10 10l.94 2.06.94-2.06 2.06-.94-2.06-.94-.94-2.06-.94 2.06-2.06.94z\"/><path d=\"M17.41 7.96l-1.37-1.37c-.4-.4-.92-.59-1.43-.59-.52 0-1.04.2-1.43.59L10.3 9.45l-7.72 7.72c-.78.78-.78 2.05 0 2.83L4 21.41c.39.39.9.59 1.41.59.51 0 1.02-.2 1.41-.59l7.78-7.78 2.81-2.81c.8-.78.8-2.07 0-2.86zM5.41 20L4 18.59l7.72-7.72 1.47 1.35L5.41 20z\"/>\n",
              "  </svg>\n",
              "      </button>\n",
              "      \n",
              "  <style>\n",
              "    .colab-df-container {\n",
              "      display:flex;\n",
              "      flex-wrap:wrap;\n",
              "      gap: 12px;\n",
              "    }\n",
              "\n",
              "    .colab-df-convert {\n",
              "      background-color: #E8F0FE;\n",
              "      border: none;\n",
              "      border-radius: 50%;\n",
              "      cursor: pointer;\n",
              "      display: none;\n",
              "      fill: #1967D2;\n",
              "      height: 32px;\n",
              "      padding: 0 0 0 0;\n",
              "      width: 32px;\n",
              "    }\n",
              "\n",
              "    .colab-df-convert:hover {\n",
              "      background-color: #E2EBFA;\n",
              "      box-shadow: 0px 1px 2px rgba(60, 64, 67, 0.3), 0px 1px 3px 1px rgba(60, 64, 67, 0.15);\n",
              "      fill: #174EA6;\n",
              "    }\n",
              "\n",
              "    [theme=dark] .colab-df-convert {\n",
              "      background-color: #3B4455;\n",
              "      fill: #D2E3FC;\n",
              "    }\n",
              "\n",
              "    [theme=dark] .colab-df-convert:hover {\n",
              "      background-color: #434B5C;\n",
              "      box-shadow: 0px 1px 3px 1px rgba(0, 0, 0, 0.15);\n",
              "      filter: drop-shadow(0px 1px 2px rgba(0, 0, 0, 0.3));\n",
              "      fill: #FFFFFF;\n",
              "    }\n",
              "  </style>\n",
              "\n",
              "      <script>\n",
              "        const buttonEl =\n",
              "          document.querySelector('#df-db12fb48-e510-438c-8b10-0e175db00b05 button.colab-df-convert');\n",
              "        buttonEl.style.display =\n",
              "          google.colab.kernel.accessAllowed ? 'block' : 'none';\n",
              "\n",
              "        async function convertToInteractive(key) {\n",
              "          const element = document.querySelector('#df-db12fb48-e510-438c-8b10-0e175db00b05');\n",
              "          const dataTable =\n",
              "            await google.colab.kernel.invokeFunction('convertToInteractive',\n",
              "                                                     [key], {});\n",
              "          if (!dataTable) return;\n",
              "\n",
              "          const docLinkHtml = 'Like what you see? Visit the ' +\n",
              "            '<a target=\"_blank\" href=https://colab.research.google.com/notebooks/data_table.ipynb>data table notebook</a>'\n",
              "            + ' to learn more about interactive tables.';\n",
              "          element.innerHTML = '';\n",
              "          dataTable['output_type'] = 'display_data';\n",
              "          await google.colab.output.renderOutput(dataTable, element);\n",
              "          const docLink = document.createElement('div');\n",
              "          docLink.innerHTML = docLinkHtml;\n",
              "          element.appendChild(docLink);\n",
              "        }\n",
              "      </script>\n",
              "    </div>\n",
              "  </div>\n",
              "  "
            ]
          },
          "metadata": {},
          "execution_count": 25
        }
      ]
    },
    {
      "cell_type": "code",
      "source": [
        "# Количество новых пользователей и размер полученной таблицы совпадают.\n",
        "\n",
        "max_level_of_new_players.shape"
      ],
      "metadata": {
        "colab": {
          "base_uri": "https://localhost:8080/"
        },
        "id": "B0O90qlwIqye",
        "outputId": "d193bf68-e629-42eb-f84a-4b74ac6d575b"
      },
      "execution_count": 30,
      "outputs": [
        {
          "output_type": "execute_result",
          "data": {
            "text/plain": [
              "(24162, 2)"
            ]
          },
          "metadata": {},
          "execution_count": 30
        }
      ]
    },
    {
      "cell_type": "code",
      "source": [
        "# Построим распределение прохождения уровней новым пользователем после установки игры (за месяц)\n",
        "\n",
        "sns.displot(\n",
        "    max_level_of_new_players, x=df[\"level\"],\n",
        "    binwidth=5, height=10, facet_kws=dict(margin_titles=True),\n",
        ")"
      ],
      "metadata": {
        "colab": {
          "base_uri": "https://localhost:8080/",
          "height": 803
        },
        "id": "8k0bhmmolUpD",
        "outputId": "85477c72-03f8-4b99-c44f-01cc63636e83"
      },
      "execution_count": 26,
      "outputs": [
        {
          "output_type": "stream",
          "name": "stderr",
          "text": [
            "/usr/local/lib/python3.7/dist-packages/seaborn/distributions.py:2356: FutureWarning: merging between different levels is deprecated and will be removed in a future version. (2 levels on the left,1 on the right)\n",
            "  right_index=True,\n"
          ]
        },
        {
          "output_type": "execute_result",
          "data": {
            "text/plain": [
              "<seaborn.axisgrid.FacetGrid at 0x7fd1fca3b4d0>"
            ]
          },
          "metadata": {},
          "execution_count": 26
        },
        {
          "output_type": "display_data",
          "data": {
            "text/plain": [
              "<Figure size 720x720 with 1 Axes>"
            ],
            "image/png": "[encoded data removed]"
          },
          "metadata": {
            "needs_background": "light"
          }
        }
      ]
    },
    {
      "cell_type": "code",
      "source": [
        "# Узнаем, на каком промежутке находится 95 % наших наблюдений\n",
        "\n",
        "max_level_of_new_players.quantile([0.0, 0.95])\n",
        "\n",
        "# 95 % новых пользователей доходит до уровня, принадлежащему промежутку [1:127]"
      ],
      "metadata": {
        "colab": {
          "base_uri": "https://localhost:8080/",
          "height": 143
        },
        "id": "4jRRIVz8qydC",
        "outputId": "bf75ede9-3646-4e00-bc27-50fb0d5611c1"
      },
      "execution_count": 27,
      "outputs": [
        {
          "output_type": "execute_result",
          "data": {
            "text/plain": [
              "      level\n",
              "        max\n",
              "0.00    1.0\n",
              "0.95  127.0"
            ],
            "text/html": [
              "\n",
              "  <div id=\"df-4950c64e-5a1d-4c21-b0b4-05ed69282bfd\">\n",
              "    <div class=\"colab-df-container\">\n",
              "      <div>\n",
              "<style scoped>\n",
              "    .dataframe tbody tr th:only-of-type {\n",
              "        vertical-align: middle;\n",
              "    }\n",
              "\n",
              "    .dataframe tbody tr th {\n",
              "        vertical-align: top;\n",
              "    }\n",
              "\n",
              "    .dataframe thead tr th {\n",
              "        text-align: left;\n",
              "    }\n",
              "</style>\n",
              "<table border=\"1\" class=\"dataframe\">\n",
              "  <thead>\n",
              "    <tr>\n",
              "      <th></th>\n",
              "      <th>level</th>\n",
              "    </tr>\n",
              "    <tr>\n",
              "      <th></th>\n",
              "      <th>max</th>\n",
              "    </tr>\n",
              "  </thead>\n",
              "  <tbody>\n",
              "    <tr>\n",
              "      <th>0.00</th>\n",
              "      <td>1.0</td>\n",
              "    </tr>\n",
              "    <tr>\n",
              "      <th>0.95</th>\n",
              "      <td>127.0</td>\n",
              "    </tr>\n",
              "  </tbody>\n",
              "</table>\n",
              "</div>\n",
              "      <button class=\"colab-df-convert\" onclick=\"convertToInteractive('df-4950c64e-5a1d-4c21-b0b4-05ed69282bfd')\"\n",
              "              title=\"Convert this dataframe to an interactive table.\"\n",
              "              style=\"display:none;\">\n",
              "        \n",
              "  <svg xmlns=\"http://www.w3.org/2000/svg\" height=\"24px\"viewBox=\"0 0 24 24\"\n",
              "       width=\"24px\">\n",
              "    <path d=\"M0 0h24v24H0V0z\" fill=\"none\"/>\n",
              "    <path d=\"M18.56 5.44l.94 2.06.94-2.06 2.06-.94-2.06-.94-.94-2.06-.94 2.06-2.06.94zm-11 1L8.5 8.5l.94-2.06 2.06-.94-2.06-.94L8.5 2.5l-.94 2.06-2.06.94zm10 10l.94 2.06.94-2.06 2.06-.94-2.06-.94-.94-2.06-.94 2.06-2.06.94z\"/><path d=\"M17.41 7.96l-1.37-1.37c-.4-.4-.92-.59-1.43-.59-.52 0-1.04.2-1.43.59L10.3 9.45l-7.72 7.72c-.78.78-.78 2.05 0 2.83L4 21.41c.39.39.9.59 1.41.59.51 0 1.02-.2 1.41-.59l7.78-7.78 2.81-2.81c.8-.78.8-2.07 0-2.86zM5.41 20L4 18.59l7.72-7.72 1.47 1.35L5.41 20z\"/>\n",
              "  </svg>\n",
              "      </button>\n",
              "      \n",
              "  <style>\n",
              "    .colab-df-container {\n",
              "      display:flex;\n",
              "      flex-wrap:wrap;\n",
              "      gap: 12px;\n",
              "    }\n",
              "\n",
              "    .colab-df-convert {\n",
              "      background-color: #E8F0FE;\n",
              "      border: none;\n",
              "      border-radius: 50%;\n",
              "      cursor: pointer;\n",
              "      display: none;\n",
              "      fill: #1967D2;\n",
              "      height: 32px;\n",
              "      padding: 0 0 0 0;\n",
              "      width: 32px;\n",
              "    }\n",
              "\n",
              "    .colab-df-convert:hover {\n",
              "      background-color: #E2EBFA;\n",
              "      box-shadow: 0px 1px 2px rgba(60, 64, 67, 0.3), 0px 1px 3px 1px rgba(60, 64, 67, 0.15);\n",
              "      fill: #174EA6;\n",
              "    }\n",
              "\n",
              "    [theme=dark] .colab-df-convert {\n",
              "      background-color: #3B4455;\n",
              "      fill: #D2E3FC;\n",
              "    }\n",
              "\n",
              "    [theme=dark] .colab-df-convert:hover {\n",
              "      background-color: #434B5C;\n",
              "      box-shadow: 0px 1px 3px 1px rgba(0, 0, 0, 0.15);\n",
              "      filter: drop-shadow(0px 1px 2px rgba(0, 0, 0, 0.3));\n",
              "      fill: #FFFFFF;\n",
              "    }\n",
              "  </style>\n",
              "\n",
              "      <script>\n",
              "        const buttonEl =\n",
              "          document.querySelector('#df-4950c64e-5a1d-4c21-b0b4-05ed69282bfd button.colab-df-convert');\n",
              "        buttonEl.style.display =\n",
              "          google.colab.kernel.accessAllowed ? 'block' : 'none';\n",
              "\n",
              "        async function convertToInteractive(key) {\n",
              "          const element = document.querySelector('#df-4950c64e-5a1d-4c21-b0b4-05ed69282bfd');\n",
              "          const dataTable =\n",
              "            await google.colab.kernel.invokeFunction('convertToInteractive',\n",
              "                                                     [key], {});\n",
              "          if (!dataTable) return;\n",
              "\n",
              "          const docLinkHtml = 'Like what you see? Visit the ' +\n",
              "            '<a target=\"_blank\" href=https://colab.research.google.com/notebooks/data_table.ipynb>data table notebook</a>'\n",
              "            + ' to learn more about interactive tables.';\n",
              "          element.innerHTML = '';\n",
              "          dataTable['output_type'] = 'display_data';\n",
              "          await google.colab.output.renderOutput(dataTable, element);\n",
              "          const docLink = document.createElement('div');\n",
              "          docLink.innerHTML = docLinkHtml;\n",
              "          element.appendChild(docLink);\n",
              "        }\n",
              "      </script>\n",
              "    </div>\n",
              "  </div>\n",
              "  "
            ]
          },
          "metadata": {},
          "execution_count": 27
        }
      ]
    },
    {
      "cell_type": "code",
      "source": [
        "# Узнаем, на каком промежутке находится 99 % наших наблюдений\n",
        "\n",
        "max_level_of_new_players.quantile([0.0, 0.99])\n",
        "\n",
        "# 99 % новых пользователей доходит до уровня, принадлежащему промежутку [1:193]"
      ],
      "metadata": {
        "colab": {
          "base_uri": "https://localhost:8080/",
          "height": 143
        },
        "id": "hvNMJxnotLlZ",
        "outputId": "07495c2f-4a95-4ac8-b131-c3ed462e3c2d"
      },
      "execution_count": 28,
      "outputs": [
        {
          "output_type": "execute_result",
          "data": {
            "text/plain": [
              "      level\n",
              "        max\n",
              "0.00    1.0\n",
              "0.99  193.0"
            ],
            "text/html": [
              "\n",
              "  <div id=\"df-46672498-291f-4879-836e-ef693660b987\">\n",
              "    <div class=\"colab-df-container\">\n",
              "      <div>\n",
              "<style scoped>\n",
              "    .dataframe tbody tr th:only-of-type {\n",
              "        vertical-align: middle;\n",
              "    }\n",
              "\n",
              "    .dataframe tbody tr th {\n",
              "        vertical-align: top;\n",
              "    }\n",
              "\n",
              "    .dataframe thead tr th {\n",
              "        text-align: left;\n",
              "    }\n",
              "</style>\n",
              "<table border=\"1\" class=\"dataframe\">\n",
              "  <thead>\n",
              "    <tr>\n",
              "      <th></th>\n",
              "      <th>level</th>\n",
              "    </tr>\n",
              "    <tr>\n",
              "      <th></th>\n",
              "      <th>max</th>\n",
              "    </tr>\n",
              "  </thead>\n",
              "  <tbody>\n",
              "    <tr>\n",
              "      <th>0.00</th>\n",
              "      <td>1.0</td>\n",
              "    </tr>\n",
              "    <tr>\n",
              "      <th>0.99</th>\n",
              "      <td>193.0</td>\n",
              "    </tr>\n",
              "  </tbody>\n",
              "</table>\n",
              "</div>\n",
              "      <button class=\"colab-df-convert\" onclick=\"convertToInteractive('df-46672498-291f-4879-836e-ef693660b987')\"\n",
              "              title=\"Convert this dataframe to an interactive table.\"\n",
              "              style=\"display:none;\">\n",
              "        \n",
              "  <svg xmlns=\"http://www.w3.org/2000/svg\" height=\"24px\"viewBox=\"0 0 24 24\"\n",
              "       width=\"24px\">\n",
              "    <path d=\"M0 0h24v24H0V0z\" fill=\"none\"/>\n",
              "    <path d=\"M18.56 5.44l.94 2.06.94-2.06 2.06-.94-2.06-.94-.94-2.06-.94 2.06-2.06.94zm-11 1L8.5 8.5l.94-2.06 2.06-.94-2.06-.94L8.5 2.5l-.94 2.06-2.06.94zm10 10l.94 2.06.94-2.06 2.06-.94-2.06-.94-.94-2.06-.94 2.06-2.06.94z\"/><path d=\"M17.41 7.96l-1.37-1.37c-.4-.4-.92-.59-1.43-.59-.52 0-1.04.2-1.43.59L10.3 9.45l-7.72 7.72c-.78.78-.78 2.05 0 2.83L4 21.41c.39.39.9.59 1.41.59.51 0 1.02-.2 1.41-.59l7.78-7.78 2.81-2.81c.8-.78.8-2.07 0-2.86zM5.41 20L4 18.59l7.72-7.72 1.47 1.35L5.41 20z\"/>\n",
              "  </svg>\n",
              "      </button>\n",
              "      \n",
              "  <style>\n",
              "    .colab-df-container {\n",
              "      display:flex;\n",
              "      flex-wrap:wrap;\n",
              "      gap: 12px;\n",
              "    }\n",
              "\n",
              "    .colab-df-convert {\n",
              "      background-color: #E8F0FE;\n",
              "      border: none;\n",
              "      border-radius: 50%;\n",
              "      cursor: pointer;\n",
              "      display: none;\n",
              "      fill: #1967D2;\n",
              "      height: 32px;\n",
              "      padding: 0 0 0 0;\n",
              "      width: 32px;\n",
              "    }\n",
              "\n",
              "    .colab-df-convert:hover {\n",
              "      background-color: #E2EBFA;\n",
              "      box-shadow: 0px 1px 2px rgba(60, 64, 67, 0.3), 0px 1px 3px 1px rgba(60, 64, 67, 0.15);\n",
              "      fill: #174EA6;\n",
              "    }\n",
              "\n",
              "    [theme=dark] .colab-df-convert {\n",
              "      background-color: #3B4455;\n",
              "      fill: #D2E3FC;\n",
              "    }\n",
              "\n",
              "    [theme=dark] .colab-df-convert:hover {\n",
              "      background-color: #434B5C;\n",
              "      box-shadow: 0px 1px 3px 1px rgba(0, 0, 0, 0.15);\n",
              "      filter: drop-shadow(0px 1px 2px rgba(0, 0, 0, 0.3));\n",
              "      fill: #FFFFFF;\n",
              "    }\n",
              "  </style>\n",
              "\n",
              "      <script>\n",
              "        const buttonEl =\n",
              "          document.querySelector('#df-46672498-291f-4879-836e-ef693660b987 button.colab-df-convert');\n",
              "        buttonEl.style.display =\n",
              "          google.colab.kernel.accessAllowed ? 'block' : 'none';\n",
              "\n",
              "        async function convertToInteractive(key) {\n",
              "          const element = document.querySelector('#df-46672498-291f-4879-836e-ef693660b987');\n",
              "          const dataTable =\n",
              "            await google.colab.kernel.invokeFunction('convertToInteractive',\n",
              "                                                     [key], {});\n",
              "          if (!dataTable) return;\n",
              "\n",
              "          const docLinkHtml = 'Like what you see? Visit the ' +\n",
              "            '<a target=\"_blank\" href=https://colab.research.google.com/notebooks/data_table.ipynb>data table notebook</a>'\n",
              "            + ' to learn more about interactive tables.';\n",
              "          element.innerHTML = '';\n",
              "          dataTable['output_type'] = 'display_data';\n",
              "          await google.colab.output.renderOutput(dataTable, element);\n",
              "          const docLink = document.createElement('div');\n",
              "          docLink.innerHTML = docLinkHtml;\n",
              "          element.appendChild(docLink);\n",
              "        }\n",
              "      </script>\n",
              "    </div>\n",
              "  </div>\n",
              "  "
            ]
          },
          "metadata": {},
          "execution_count": 28
        }
      ]
    },
    {
      "cell_type": "markdown",
      "source": [
        "## **Отчет по проведенному исследованию**\n",
        "\n",
        "\n",
        "---\n",
        "\n",
        "\n",
        "В ходе проведеннего анализа была высчитана метрика для описания сложности уровней, а так же каждому уровню присвоен соответствующий класс сложности. \n",
        "\n",
        "При построении распределения прохождения уровней новыми пользователями было обнаружено, что 95 % новых пользователей проходят до уровня, находящегося в промежутке [1:127], а 99 % пользователей - до уровня в промежутке [1:193].\n",
        "\n",
        "Мои общие рекомендации, предложения для улучшения показателей:\n",
        "\n",
        "\n",
        "\n",
        "1.   Сократить количество сложных уровней, переведя их в категорию сложности \"средний\". На данный момент количество сложных уровней сильно преобладает над количеством \"средних\" и \"легких\";\n",
        "2.   На основе этих изменений следить за воронкой прохождения уровней новыми пользователеми. Нужно стремиться к смещению графика  вправо (ситуации, когда игрок проходит от силы несколько уровней - уменьшалась; максимальный уровень, пройденным им - увеличивался);\n",
        "3.   Возможно, некоторых игроков может смущать реклама в самом начале, и поэтому предлагаю рассмотреть вариант ее уменьшения на начальных уровнях, а потом дать ее игроку в качестве инструмента, чтобы получать хэлперы для более сложных уровней (ненавязчивая реклама).\n",
        "\n"
      ],
      "metadata": {
        "id": "iHJXRy3WtSAw"
      }
    }
  ]
}